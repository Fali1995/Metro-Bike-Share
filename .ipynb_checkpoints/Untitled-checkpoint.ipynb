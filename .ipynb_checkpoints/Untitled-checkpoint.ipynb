{
 "cells": [
  {
   "cell_type": "code",
   "execution_count": 1,
   "metadata": {},
   "outputs": [],
   "source": [
    "import pandas as pd\n",
    "import numpy as np\n",
    "import matplotlib.pyplot as plt\n",
    "import datetime as dt"
   ]
  },
  {
   "cell_type": "code",
   "execution_count": 2,
   "metadata": {},
   "outputs": [],
   "source": [
    "path_2016 = \"data/metro-bike-share-trips-2016.csv\"\n",
    "path_2017 = \"data/metro-bike-share-trips-2017.csv\"\n",
    "path_2018 = \"data/metro-bike-share-trips-2018.csv\"\n",
    "path_2019 = \"data/metro-bike-share-trips-2019.csv\""
   ]
  },
  {
   "cell_type": "code",
   "execution_count": 3,
   "metadata": {},
   "outputs": [],
   "source": [
    "df_2016 = pd.read_csv(path_2016, index_col=\"start_time\")\n",
    "df_2017 = pd.read_csv(path_2017, index_col=\"start_time\", low_memory=False)\n",
    "df_2018 = pd.read_csv(path_2018, index_col=\"start_time\", low_memory=False)\n",
    "df_2019 = pd.read_csv(path_2019, index_col=\"start_time\", low_memory=False)"
   ]
  },
  {
   "cell_type": "code",
   "execution_count": 4,
   "metadata": {},
   "outputs": [],
   "source": [
    "df_2016.index = pd.to_datetime(df_2016.index)\n",
    "df_2017.index = pd.to_datetime(df_2017.index)\n",
    "df_2018.index = pd.to_datetime(df_2018.index)\n",
    "df_2019.index = pd.to_datetime(df_2019.index)"
   ]
  },
  {
   "cell_type": "code",
   "execution_count": 5,
   "metadata": {},
   "outputs": [],
   "source": [
    "df = pd.concat([df_2016, df_2017, df_2018, df_2019], sort=False)"
   ]
  },
  {
   "cell_type": "code",
   "execution_count": 6,
   "metadata": {},
   "outputs": [
    {
     "data": {
      "text/html": [
       "<div>\n",
       "<style scoped>\n",
       "    .dataframe tbody tr th:only-of-type {\n",
       "        vertical-align: middle;\n",
       "    }\n",
       "\n",
       "    .dataframe tbody tr th {\n",
       "        vertical-align: top;\n",
       "    }\n",
       "\n",
       "    .dataframe thead th {\n",
       "        text-align: right;\n",
       "    }\n",
       "</style>\n",
       "<table border=\"1\" class=\"dataframe\">\n",
       "  <thead>\n",
       "    <tr style=\"text-align: right;\">\n",
       "      <th></th>\n",
       "      <th>trip_id</th>\n",
       "      <th>duration</th>\n",
       "      <th>end_time</th>\n",
       "      <th>start_station</th>\n",
       "      <th>start_lat</th>\n",
       "      <th>start_lon</th>\n",
       "      <th>end_station</th>\n",
       "      <th>end_lat</th>\n",
       "      <th>end_lon</th>\n",
       "      <th>bike_id</th>\n",
       "      <th>plan_duration</th>\n",
       "      <th>trip_route_category</th>\n",
       "      <th>passholder_type</th>\n",
       "      <th>bike_type</th>\n",
       "    </tr>\n",
       "    <tr>\n",
       "      <th>start_time</th>\n",
       "      <th></th>\n",
       "      <th></th>\n",
       "      <th></th>\n",
       "      <th></th>\n",
       "      <th></th>\n",
       "      <th></th>\n",
       "      <th></th>\n",
       "      <th></th>\n",
       "      <th></th>\n",
       "      <th></th>\n",
       "      <th></th>\n",
       "      <th></th>\n",
       "      <th></th>\n",
       "      <th></th>\n",
       "    </tr>\n",
       "  </thead>\n",
       "  <tbody>\n",
       "    <tr>\n",
       "      <th>2016-07-07 04:17:00</th>\n",
       "      <td>1912818</td>\n",
       "      <td>3</td>\n",
       "      <td>7/7/2016 4:20</td>\n",
       "      <td>3014</td>\n",
       "      <td>34.056610</td>\n",
       "      <td>-118.23721</td>\n",
       "      <td>3014</td>\n",
       "      <td>34.056610</td>\n",
       "      <td>-118.23721</td>\n",
       "      <td>6281</td>\n",
       "      <td>30.0</td>\n",
       "      <td>Round Trip</td>\n",
       "      <td>Monthly Pass</td>\n",
       "      <td>NaN</td>\n",
       "    </tr>\n",
       "    <tr>\n",
       "      <th>2016-07-07 06:00:00</th>\n",
       "      <td>1919661</td>\n",
       "      <td>33</td>\n",
       "      <td>7/7/2016 6:33</td>\n",
       "      <td>3014</td>\n",
       "      <td>34.056610</td>\n",
       "      <td>-118.23721</td>\n",
       "      <td>3014</td>\n",
       "      <td>34.056610</td>\n",
       "      <td>-118.23721</td>\n",
       "      <td>6281</td>\n",
       "      <td>30.0</td>\n",
       "      <td>Round Trip</td>\n",
       "      <td>Monthly Pass</td>\n",
       "      <td>NaN</td>\n",
       "    </tr>\n",
       "    <tr>\n",
       "      <th>2016-07-07 10:32:00</th>\n",
       "      <td>1933383</td>\n",
       "      <td>5</td>\n",
       "      <td>7/7/2016 10:37</td>\n",
       "      <td>3016</td>\n",
       "      <td>34.052898</td>\n",
       "      <td>-118.24156</td>\n",
       "      <td>3016</td>\n",
       "      <td>34.052898</td>\n",
       "      <td>-118.24156</td>\n",
       "      <td>5861</td>\n",
       "      <td>365.0</td>\n",
       "      <td>Round Trip</td>\n",
       "      <td>Flex Pass</td>\n",
       "      <td>NaN</td>\n",
       "    </tr>\n",
       "    <tr>\n",
       "      <th>2016-07-07 10:37:00</th>\n",
       "      <td>1944197</td>\n",
       "      <td>181</td>\n",
       "      <td>7/7/2016 13:38</td>\n",
       "      <td>3016</td>\n",
       "      <td>34.052898</td>\n",
       "      <td>-118.24156</td>\n",
       "      <td>3016</td>\n",
       "      <td>34.052898</td>\n",
       "      <td>-118.24156</td>\n",
       "      <td>5861</td>\n",
       "      <td>365.0</td>\n",
       "      <td>Round Trip</td>\n",
       "      <td>Flex Pass</td>\n",
       "      <td>NaN</td>\n",
       "    </tr>\n",
       "    <tr>\n",
       "      <th>2016-07-07 12:51:00</th>\n",
       "      <td>1940317</td>\n",
       "      <td>7</td>\n",
       "      <td>7/7/2016 12:58</td>\n",
       "      <td>3032</td>\n",
       "      <td>34.049889</td>\n",
       "      <td>-118.25588</td>\n",
       "      <td>3032</td>\n",
       "      <td>34.049889</td>\n",
       "      <td>-118.25588</td>\n",
       "      <td>6674</td>\n",
       "      <td>0.0</td>\n",
       "      <td>Round Trip</td>\n",
       "      <td>Walk-up</td>\n",
       "      <td>NaN</td>\n",
       "    </tr>\n",
       "  </tbody>\n",
       "</table>\n",
       "</div>"
      ],
      "text/plain": [
       "                     trip_id  duration        end_time  start_station  \\\n",
       "start_time                                                              \n",
       "2016-07-07 04:17:00  1912818         3   7/7/2016 4:20           3014   \n",
       "2016-07-07 06:00:00  1919661        33   7/7/2016 6:33           3014   \n",
       "2016-07-07 10:32:00  1933383         5  7/7/2016 10:37           3016   \n",
       "2016-07-07 10:37:00  1944197       181  7/7/2016 13:38           3016   \n",
       "2016-07-07 12:51:00  1940317         7  7/7/2016 12:58           3032   \n",
       "\n",
       "                     start_lat  start_lon  end_station    end_lat    end_lon  \\\n",
       "start_time                                                                     \n",
       "2016-07-07 04:17:00  34.056610 -118.23721         3014  34.056610 -118.23721   \n",
       "2016-07-07 06:00:00  34.056610 -118.23721         3014  34.056610 -118.23721   \n",
       "2016-07-07 10:32:00  34.052898 -118.24156         3016  34.052898 -118.24156   \n",
       "2016-07-07 10:37:00  34.052898 -118.24156         3016  34.052898 -118.24156   \n",
       "2016-07-07 12:51:00  34.049889 -118.25588         3032  34.049889 -118.25588   \n",
       "\n",
       "                    bike_id  plan_duration trip_route_category  \\\n",
       "start_time                                                       \n",
       "2016-07-07 04:17:00    6281           30.0          Round Trip   \n",
       "2016-07-07 06:00:00    6281           30.0          Round Trip   \n",
       "2016-07-07 10:32:00    5861          365.0          Round Trip   \n",
       "2016-07-07 10:37:00    5861          365.0          Round Trip   \n",
       "2016-07-07 12:51:00    6674            0.0          Round Trip   \n",
       "\n",
       "                    passholder_type bike_type  \n",
       "start_time                                     \n",
       "2016-07-07 04:17:00    Monthly Pass       NaN  \n",
       "2016-07-07 06:00:00    Monthly Pass       NaN  \n",
       "2016-07-07 10:32:00       Flex Pass       NaN  \n",
       "2016-07-07 10:37:00       Flex Pass       NaN  \n",
       "2016-07-07 12:51:00         Walk-up       NaN  "
      ]
     },
     "execution_count": 6,
     "metadata": {},
     "output_type": "execute_result"
    }
   ],
   "source": [
    "df.head()"
   ]
  },
  {
   "cell_type": "markdown",
   "metadata": {},
   "source": [
    "## Total Trips per month\n",
    "Below is a graph that has each month in the data on the x-axis and the total trips that happend on that month on the y-axis. What is interesting is that Winter months had the lowest amount of trips and the highest amount of trips happened around late Summer and early Fall. \n",
    "\n",
    "It's intesting that Spring months are not the highest because the weather around that time is not as warm as it is during the Summer.  "
   ]
  },
  {
   "cell_type": "code",
   "execution_count": 7,
   "metadata": {},
   "outputs": [
    {
     "data": {
      "image/png": "[encoded data removed]",
      "text/plain": [
       "<Figure size 720x360 with 1 Axes>"
      ]
     },
     "metadata": {
      "needs_background": "light"
     },
     "output_type": "display_data"
    }
   ],
   "source": [
    "total_trips = df[\"trip_id\"].resample('M').count()\n",
    "\n",
    "plt.figure(figsize=(10,5))\n",
    "total_trips.plot()\n",
    "\n",
    "plt.grid(axis='y')\n",
    "plt.title(\"Trips per Month\", fontsize=14)\n",
    "plt.xlabel(\"Month\", fontsize=13)\n",
    "plt.ylabel(\"Total Trips\", fontsize=12)\n",
    "plt.show()"
   ]
  },
  {
   "cell_type": "markdown",
   "metadata": {},
   "source": [
    "### Total Trips per Quarter\n",
    "This is the total number of trips in each quarter of each year. Since the data starts on July 2016 and ends on June 2019, there are only two complete years in the the data. \n",
    "\n",
    "Looking at 2017 and 2018 the first quarter had the lowest amount of total trips and the third quarter of had the highest, but for 2017 the third and fourth quarters were nearly even. \n",
    "\n",
    "There were a lot more trips taken in 2018 than there where in 2017, but the first quarter of 2019 has less trip than the first quarter of 2019."
   ]
  },
  {
   "cell_type": "code",
   "execution_count": 8,
   "metadata": {},
   "outputs": [
    {
     "data": {
      "image/png": "[encoded data removed]",
      "text/plain": [
       "<Figure size 1008x504 with 4 Axes>"
      ]
     },
     "metadata": {
      "needs_background": "light"
     },
     "output_type": "display_data"
    }
   ],
   "source": [
    "quarter_trips = df[\"trip_id\"].resample('Q').count()\n",
    "\n",
    "plot_num = 1\n",
    "fig = plt.figure(figsize=(14,7))\n",
    "\n",
    "plt.suptitle('Total Trips per Quarter', fontsize=15)\n",
    "\n",
    "for year in range(2016, 2020):\n",
    "    plt.subplot(2,2,plot_num)\n",
    "    year_trips = quarter_trips[quarter_trips.index.year == year ]\n",
    "    \n",
    "    if year == 2017 or year == 2018:\n",
    "        plt.bar([\"Q1\",\"Q2\",\"Q3\", \"Q4\"], year_trips, color = \"orange\")\n",
    "    elif year == 2016:\n",
    "        plt.bar([\"Q3\", \"Q4\"], year_trips, color = \"orange\")\n",
    "    elif year == 2019:\n",
    "        plt.bar([\"Q1\",\"Q2\"], year_trips, color = \"orange\")\n",
    "    \n",
    "    plt.xlabel(f\"{year} Quarters\", fontsize=13)\n",
    "    plt.ylabel(\"Total Trips\", fontsize=12)\n",
    "    plt.ylim([0,100000])\n",
    "    plot_num += 1\n",
    "    \n",
    "plt.tight_layout()\n",
    "plt.subplots_adjust(top = .9)"
   ]
  },
  {
   "cell_type": "markdown",
   "metadata": {},
   "source": [
    "### Total Trips per Season\n",
    "This the total trips taken in each season of each year. Just like the graphs for the quaterly data, there are only two complete years.\n",
    "\n",
    "In 2016 and 2018, Summer had the highest number of trips and in 2017 Summer and Fall were about even. One possibility of Summer having so many trips is that kids are out of school and they use Metro Bike Share to travel. Another reason could be that people go to Los Angeles for vaction during the Summer and the use the bikes to travel."
   ]
  },
  {
   "cell_type": "code",
   "execution_count": 9,
   "metadata": {},
   "outputs": [],
   "source": [
    "def get_season(trip_date):\n",
    "    trip_date = trip_date.date()\n",
    "    year = trip_date.year\n",
    "    \n",
    "    if (dt.date(year, 1, 1) <= trip_date <= dt.date(year, 3, 20)):\n",
    "        return \"Winter\"\n",
    "    elif (dt.date(year, 3, 21) <= trip_date <= dt.date(year, 6, 20)):\n",
    "        return \"Spring\"\n",
    "    elif (dt.date(year, 6, 21) <= trip_date <= dt.date(year, 9, 22)):\n",
    "        return \"Summer\"\n",
    "    elif (dt.date(year, 9, 23) <= trip_date <= dt.date(year, 12, 20)):\n",
    "        return \"Fall\"\n",
    "    \n",
    "    return \"Winter\"\n",
    "    \n",
    "    "
   ]
  },
  {
   "cell_type": "code",
   "execution_count": 10,
   "metadata": {},
   "outputs": [],
   "source": [
    "df[\"season\"] = df.index.map(get_season)"
   ]
  },
  {
   "cell_type": "code",
   "execution_count": 11,
   "metadata": {},
   "outputs": [
    {
     "data": {
      "image/png": "[encoded data removed]",
      "text/plain": [
       "<Figure size 864x432 with 4 Axes>"
      ]
     },
     "metadata": {
      "needs_background": "light"
     },
     "output_type": "display_data"
    }
   ],
   "source": [
    "plot_num = 1\n",
    "fig = plt.figure(figsize=(12,6))\n",
    "\n",
    "plt.suptitle('Total Trips per Season', fontsize=15)\n",
    "\n",
    "\n",
    "for year in range(2016, 2020):\n",
    "    plt.subplot(2,2,plot_num)\n",
    "    season_trips = df[df.index.year == year].groupby(\"season\")[\"trip_id\"].count()\n",
    "    \n",
    "    if year == 2017 or year == 2018:\n",
    "        season_trips = season_trips.reindex([\"Winter\", \"Spring\", \"Summer\", \"Fall\"])\n",
    "    elif year == 2016:\n",
    "        season_trips = season_trips.reindex([\"Winter\", \"Summer\", \"Fall\"])\n",
    "    else:\n",
    "        season_trips = season_trips.reindex([\"Winter\", \"Spring\", \"Summer\"])\n",
    "    \n",
    "    season_trips.plot(kind=\"bar\", color=\"orangered\")\n",
    "    plt.xticks(rotation=0)\n",
    "    \n",
    "    plt.xlabel(f\"{year} Seasons\", fontsize=13)\n",
    "    plt.ylabel(\"Total Trips\", fontsize=12)\n",
    "    plt.ylim([0,100000])\n",
    "    \n",
    "    plot_num += 1\n",
    "\n",
    "plt.tight_layout()\n",
    "plt.subplots_adjust(top=.9)"
   ]
  },
  {
   "cell_type": "markdown",
   "metadata": {},
   "source": [
    "### Total Monthly Trips by year \n",
    "These are graphs of the total trips taken in each month of each year. \n",
    "\n",
    "On 2016 and 2018, August had the most trips. On 2018, October had the highest number of trips, with August or September having the secound highest. August and September are about even in 2018.\n",
    "\n",
    "From 2017 to 2019 the lowest number of trips occurred in Feburary. This could be because it rains more on Feburary and people do not want to ride bikes outside in the rain."
   ]
  },
  {
   "cell_type": "code",
   "execution_count": 12,
   "metadata": {},
   "outputs": [
    {
     "data": {
      "image/png": "[encoded data removed]",
      "text/plain": [
       "<Figure size 864x432 with 4 Axes>"
      ]
     },
     "metadata": {
      "needs_background": "light"
     },
     "output_type": "display_data"
    }
   ],
   "source": [
    "months = np.array([\"Jan\", \"Feb\", \"March\", \"April\", \"May\", \"June\", \"July\", \"Aug\", \"Sep\", \"Oct\", \"Nov\", \"Dec\"])\n",
    "plot_num = 1\n",
    "\n",
    "plt.figure(figsize=(12,6))\n",
    "plt.suptitle('Total Trips per Month', fontsize=15)\n",
    "\n",
    "for year in range(2016,2020):\n",
    "    plt.subplot(2,2,plot_num)\n",
    "    \n",
    "    year_data = df[df.index.year == year][\"trip_id\"].resample('M').count()\n",
    "    \n",
    "    if year == 2017 or year == 2018:\n",
    "        plt.bar(months, year_data, color=\"teal\")\n",
    "    elif year == 2016:\n",
    "        plt.bar(months[6:], year_data, color=\"teal\")\n",
    "    else:\n",
    "        plt.bar(months[:6], year_data, color=\"teal\")\n",
    "        \n",
    "    plt.xlabel(f\"{year} Months\", fontsize=13)\n",
    "    plt.ylabel(\"Total Trips\", fontsize=12)    \n",
    "    \n",
    "    plt.xticks(rotation=45)\n",
    "    plt.ylim([0,35000])\n",
    "    plot_num += 1\n",
    "\n",
    "plt.tight_layout()\n",
    "plt.subplots_adjust(top=.9)"
   ]
  },
  {
   "cell_type": "markdown",
   "metadata": {},
   "source": [
    "### Average Trips per Day\n",
    "The graph below shows the average number of trips taken in each day of the week. There was not a big difference between each day, but Monday, Saturday, and Sunday had less trips than other days and Friday had the most.  \n",
    "\n",
    "It makes scence for Saturday and Sunday to have a lower number of trips because people are not going to work or school on those days. But it seems for Monday to have as less trips."
   ]
  },
  {
   "cell_type": "code",
   "execution_count": 13,
   "metadata": {},
   "outputs": [],
   "source": [
    "df[\"day\"] = df.index.strftime(\"%a\")"
   ]
  },
  {
   "cell_type": "code",
   "execution_count": 14,
   "metadata": {},
   "outputs": [],
   "source": [
    "days = [\"Mon\", \"Tue\", \"Wed\", \"Thu\", \"Fri\", \"Sat\", \"Sun\"]\n",
    "\n",
    "total_days = df[\"trip_id\"].resample('d').count().index.strftime(\"%a\").value_counts().reindex(days)\n"
   ]
  },
  {
   "cell_type": "code",
   "execution_count": 15,
   "metadata": {},
   "outputs": [
    {
     "data": {
      "image/png": "[encoded data removed]",
      "text/plain": [
       "<Figure size 648x504 with 1 Axes>"
      ]
     },
     "metadata": {
      "needs_background": "light"
     },
     "output_type": "display_data"
    }
   ],
   "source": [
    "trip_days = df.groupby(\"day\").size().reindex(days)/total_days\n",
    "\n",
    "plt.figure(figsize=(9,7))\n",
    "\n",
    "plt.bar(days, trip_days, color=\"coral\")\n",
    "\n",
    "plt.title(\"Average trip per Day\", fontsize=15)\n",
    "plt.xlabel(\"Day of Week\", fontsize=14)\n",
    "plt.ylabel(\"Average Trips\", fontsize=13)\n",
    "plt.xticks(fontsize=12)\n",
    "\n",
    "plt.show()"
   ]
  },
  {
   "cell_type": "code",
   "execution_count": 16,
   "metadata": {},
   "outputs": [
    {
     "data": {
      "text/plain": [
       "day\n",
       "Mon    672.445161\n",
       "Tue    713.019355\n",
       "Wed    705.341935\n",
       "Thu    714.038462\n",
       "Fri    743.634615\n",
       "Sat    680.384615\n",
       "Sun    667.160256\n",
       "dtype: float64"
      ]
     },
     "execution_count": 16,
     "metadata": {},
     "output_type": "execute_result"
    }
   ],
   "source": [
    "trip_days"
   ]
  },
  {
   "cell_type": "markdown",
   "metadata": {},
   "source": [
    "### Total Trips per Hour\n",
    "This is a plot that shows the total number of trips that occured in each one hour range thoughout the day. For example, a trip that happened on 5:45 pm would be added to the total trips on 5 pm. \n",
    "\n",
    "In the plot there is a peak at 8 am, this most likely has to do with people going to work. There is another peak the goes from 12 pm and 1 pm. This is probabally part-time workers get off work. The final peak is at  5 pm amd these people are most likely full-time workers getting off work. \n",
    "\n"
   ]
  },
  {
   "cell_type": "code",
   "execution_count": 17,
   "metadata": {},
   "outputs": [],
   "source": [
    "time_trips = df.groupby(df.index.hour).size()\n",
    "\n",
    "hours = []\n",
    "\n",
    "hours.append(\"12 am\")\n",
    "\n",
    "for hour in range(1,12):\n",
    "    hours.append(f\"{hour} am\")\n",
    "    \n",
    "hours.append(\"12 pm\")\n",
    "\n",
    "for hour in range(1,12):\n",
    "    hours.append(f\"{hour} pm\")"
   ]
  },
  {
   "cell_type": "code",
   "execution_count": 18,
   "metadata": {},
   "outputs": [
    {
     "data": {
      "image/png": "[encoded data removed]",
      "text/plain": [
       "<Figure size 720x360 with 1 Axes>"
      ]
     },
     "metadata": {
      "needs_background": "light"
     },
     "output_type": "display_data"
    }
   ],
   "source": [
    "plt.figure(figsize=(10,5))\n",
    "plt.plot(hours, time_trips, color=\"green\")\n",
    "\n",
    "plt.title(\"Total Trips per hour\", fontsize=14)\n",
    "plt.xlabel(\"Hour of Day\", fontsize=13)\n",
    "plt.ylabel(\"Total Tips\", fontsize=12)\n",
    "plt.xticks(np.arange(0,24,2))\n",
    "plt.grid()\n",
    "\n",
    "plt.show()"
   ]
  },
  {
   "cell_type": "code",
   "execution_count": null,
   "metadata": {},
   "outputs": [],
   "source": []
  },
  {
   "cell_type": "markdown",
   "metadata": {},
   "source": [
    "### Total Trips per Hour on Each Day\n",
    "The plots bellow are the same one as above expect each day of the week is given its own plot. \n",
    "\n",
    "The plots for Monday through Friday are similiar to the the one above with peaks occuring at the same times, but the Saturday and Sunday plots are different. The plots for Saturday and Sunday show a low amount of trips on 8 am and 5 pm. There is one peak for both days and it happens around 2 pm and it is very round."
   ]
  },
  {
   "cell_type": "code",
   "execution_count": 19,
   "metadata": {},
   "outputs": [
    {
     "data": {
      "image/png": "[encoded data removed]",
      "text/plain": [
       "<Figure size 720x1800 with 7 Axes>"
      ]
     },
     "metadata": {
      "needs_background": "light"
     },
     "output_type": "display_data"
    }
   ],
   "source": [
    "days_full = [\"Monday\", \"Tuesday\", \"Wednessday\", \"Thursday\", \"Friday\", \"Saturday\", \"Sunday\"]\n",
    "\n",
    "plt.figure(figsize=(10,25))\n",
    "\n",
    "for index, day in enumerate(days):\n",
    "    plt.subplot(7,1,(index + 1))\n",
    "    \n",
    "    df_day = df[df[\"day\"] == day]\n",
    "    trip_day = df_day.groupby(df_day.index.hour).size()\n",
    "    \n",
    "    plt.plot(hours, trip_day, color=\"royalblue\")\n",
    "    \n",
    "    plt.title(f\"Total Trips on {days_full[index]}\", fontsize=15)\n",
    "    plt.xlabel(\"Hour of Day\", fontsize=13)\n",
    "    plt.ylabel(\"Total Trips\", fontsize=12)\n",
    "    plt.xticks(np.arange(0,24,2))\n",
    "    plt.ylim([0,11500])\n",
    "    plt.grid()\n",
    "\n",
    "plt.tight_layout()\n",
    "plt.subplots_adjust(top=1.1)"
   ]
  },
  {
   "cell_type": "markdown",
   "metadata": {},
   "source": [
    "### Duration Distribution\n",
    "Creating a graph to show the distribution of the duration was difficult, because the duration of in data is between 1 to 1440 minutes and most trips are usually a couple minutes long. To show how the duration is distributed, I created a bar chart with trips that lasted from 1 to 90 minutes having nine evenly distrubuted bars and another bar for trips that lasted between 91 to 149 minutes and the last bar for trips longer than 150 minutes.\n",
    "\n",
    "The graph shows that close to 350,000 trips are between 1 to 10 minutes long and close to 200,000 trips where between 11 to 20 minutes long. There are about 760,000 trips in the data, so that means most of the trips were between 1 to 20 minutes long."
   ]
  },
  {
   "cell_type": "code",
   "execution_count": 20,
   "metadata": {},
   "outputs": [
    {
     "data": {
      "image/png": "[encoded data removed]",
      "text/plain": [
       "<Figure size 720x360 with 1 Axes>"
      ]
     },
     "metadata": {
      "needs_background": "light"
     },
     "output_type": "display_data"
    }
   ],
   "source": [
    "bins = [minute for minute in range(1,100,10)]\n",
    "bins.append(150)\n",
    "x = [\"1-10\", \"11-20\", \"21-30\", \"31-40\", \"41-50\", \"51-60\", \"61-70\", \"71-80\", \"81-90\", \"91-149\",\"150-1440\"]\n",
    "\n",
    "y = []\n",
    "\n",
    "for index in range(10):\n",
    "    y.append(len(df[(bins[index] <= df[\"duration\"]) & (df[\"duration\"] < bins[index+1])]))\n",
    "\n",
    "y.append(len(df[df[\"duration\"] >= 150]))\n",
    "\n",
    "plt.figure(figsize=(10,5))\n",
    "\n",
    "plt.bar(x,y, color=\"green\")\n",
    "\n",
    "plt.xlabel(\"Minutes Traveled\", fontsize=12)\n",
    "plt.ylabel(\"Total Trips\", fontsize=13)\n",
    "plt.title(\"Total Trips per Duration\", fontsize=14)\n",
    "\n",
    "plt.show()"
   ]
  },
  {
   "cell_type": "markdown",
   "metadata": {},
   "source": [
    "### Mean and Median Duration per Hour\n",
    "This graph shows the mean and median duration for each hour of the day. Since most of the duration times are fairly low, the mean is much larger the the median.\n",
    "\n",
    "One thing interesting is that 12 am to 4 am has the lowest amount of trips, but the mean duration is a lot greater than other hours. "
   ]
  },
  {
   "cell_type": "code",
   "execution_count": 21,
   "metadata": {},
   "outputs": [
    {
     "data": {
      "image/png": "[encoded data removed]",
      "text/plain": [
       "<Figure size 1368x576 with 1 Axes>"
      ]
     },
     "metadata": {
      "needs_background": "light"
     },
     "output_type": "display_data"
    }
   ],
   "source": [
    "duration_hours_mean = df[\"duration\"].groupby(df.index.hour).mean()\n",
    "duration_hours_median = df[\"duration\"].groupby(df.index.hour).median()\n",
    "\n",
    "plt.figure(figsize=(19, 8))\n",
    "\n",
    "bar_width = .333\n",
    "\n",
    "range1 = np.arange(24)\n",
    "range2 = [r + bar_width for r in range1]\n",
    "\n",
    "plt.bar(range1, duration_hours_mean, width=bar_width, label=\"Mean\")\n",
    "plt.bar(range2, duration_hours_median, width=bar_width, label=\"Median\")\n",
    "\n",
    "plt.title(\"Duration per Hour\", fontsize=17)\n",
    "plt.ylabel(\"Duration in Minutes\", fontsize=15)\n",
    "plt.xlabel(\"Hours\", fontsize=16)\n",
    "\n",
    "plt.xticks(range1, hours)\n",
    "\n",
    "plt.legend()\n",
    "plt.grid(axis='y')\n",
    "\n",
    "plt.show()"
   ]
  },
  {
   "cell_type": "markdown",
   "metadata": {},
   "source": [
    "### Duration per Months\n",
    "This is the 25, 50, 75 percentile of the duration for each month of the year. The values for each month are not that far apart. The values for the 25 percentile are either 6 or 7 minutes. For the 50 percentile, the values range from 11 to 13 minutes. Finally, for the 75 percentile the values are between 22 to 27 minutes.\n"
   ]
  },
  {
   "cell_type": "code",
   "execution_count": 23,
   "metadata": {},
   "outputs": [
    {
     "data": {
      "image/png": "[encoded data removed]",
      "text/plain": [
       "<Figure size 1368x576 with 1 Axes>"
      ]
     },
     "metadata": {
      "needs_background": "light"
     },
     "output_type": "display_data"
    }
   ],
   "source": [
    "duration_months_25 = df[\"duration\"].groupby(df.index.month).quantile(.25)\n",
    "duration_months_50 = df[\"duration\"].groupby(df.index.month).quantile(.50)\n",
    "duration_months_75 = df[\"duration\"].groupby(df.index.month).quantile(.75)\n",
    "\n",
    "plt.figure(figsize=(19, 8))\n",
    "\n",
    "bar_width = .25\n",
    "\n",
    "range1 = np.arange(12)\n",
    "range2 = [r + bar_width for r in range1]\n",
    "range3 = [r + bar_width for r in range2] \n",
    "\n",
    "plt.bar(range1, duration_months_25, width=bar_width, color=\"coral\", label=\"25%\")\n",
    "plt.bar(range2, duration_months_50, width=bar_width, color=\"teal\", label=\"50%\")\n",
    "plt.bar(range3, duration_months_75, width=bar_width, color=\"orange\", label=\"75%\")\n",
    "\n",
    "plt.title(\"Duration per Month\", fontsize=17)\n",
    "plt.ylabel(\"Duration in Minutes\", fontsize=15)\n",
    "plt.xlabel(\"Months\", fontsize=16)\n",
    "\n",
    "plt.xticks(range2, months)\n",
    "\n",
    "plt.legend()\n",
    "plt.grid(axis='y')\n",
    "\n",
    "plt.show()"
   ]
  },
  {
   "cell_type": "markdown",
   "metadata": {},
   "source": [
    "### Duration per Day\n",
    "The graph below shows the 25, 50, and 75 percentile of the duration for each day of the week. Looking at the graph, it is clear that trips are longer on the weekend. This could be because most people have more free time during the weekend."
   ]
  },
  {
   "cell_type": "code",
   "execution_count": 34,
   "metadata": {},
   "outputs": [
    {
     "data": {
      "image/png": "[encoded data removed]",
      "text/plain": [
       "<Figure size 720x576 with 1 Axes>"
      ]
     },
     "metadata": {
      "needs_background": "light"
     },
     "output_type": "display_data"
    }
   ],
   "source": [
    "duration_days_25 = df.groupby(\"day\")[\"duration\"].quantile(.25).reindex(days)\n",
    "duration_days_50 = df.groupby(\"day\")[\"duration\"].quantile(.50).reindex(days)\n",
    "duration_days_75 = df.groupby(\"day\")[\"duration\"].quantile(.75).reindex(days)\n",
    "\n",
    "plt.figure(figsize=(10, 8))\n",
    "\n",
    "bar_width = .25\n",
    "\n",
    "range1 = np.arange(7)\n",
    "range2 = [r + bar_width for r in range1]\n",
    "range3 = [r + bar_width for r in range2] \n",
    "\n",
    "plt.bar(range1, duration_days_25, width=bar_width, color=\"coral\", label=\"25%\")\n",
    "plt.bar(range2, duration_days_50, width=bar_width, color=\"teal\", label=\"50%\")\n",
    "plt.bar(range3, duration_days_75, width=bar_width, color=\"orange\", label=\"75%\")\n",
    "\n",
    "plt.title(\"Duration per Day\", fontsize=17)\n",
    "plt.ylabel(\"Duration in Minutes\", fontsize=15)\n",
    "plt.xlabel(\"Days\", fontsize=16)\n",
    "\n",
    "plt.xticks(range2, days_full)\n",
    "\n",
    "plt.legend()\n",
    "plt.grid(axis='y')\n",
    "\n",
    "plt.show()"
   ]
  },
  {
   "cell_type": "markdown",
   "metadata": {},
   "source": [
    "### Duration per Year\n",
    "This is the trip duration for each year. From 2016 to 2018 the duration spent increased each year, but on in 2019 there was a drop in duration."
   ]
  },
  {
   "cell_type": "code",
   "execution_count": 36,
   "metadata": {},
   "outputs": [
    {
     "data": {
      "image/png": "[encoded data removed]",
      "text/plain": [
       "<Figure size 720x576 with 1 Axes>"
      ]
     },
     "metadata": {
      "needs_background": "light"
     },
     "output_type": "display_data"
    }
   ],
   "source": [
    "duration_years_25 = df.groupby(df.index.year)[\"duration\"].quantile(.25)\n",
    "duration_years_50 = df.groupby(df.index.year)[\"duration\"].quantile(.50)\n",
    "duration_years_75 = df.groupby(df.index.year)[\"duration\"].quantile(.75)\n",
    "\n",
    "plt.figure(figsize=(10, 8))\n",
    "\n",
    "bar_width = .25\n",
    "\n",
    "range1 = np.arange(4)\n",
    "range2 = [r + bar_width for r in range1]\n",
    "range3 = [r + bar_width for r in range2] \n",
    "\n",
    "plt.bar(range1, duration_years_25, width=bar_width, color=\"coral\", label=\"25%\")\n",
    "plt.bar(range2, duration_years_50, width=bar_width, color=\"teal\", label=\"50%\")\n",
    "plt.bar(range3, duration_years_75, width=bar_width, color=\"orange\", label=\"75%\")\n",
    "\n",
    "plt.title(\"Duration per Year\", fontsize=17)\n",
    "plt.ylabel(\"Duration in Minutes\", fontsize=15)\n",
    "plt.xlabel(\"Years\", fontsize=16)\n",
    "\n",
    "plt.xticks(range2, [2016, 2017, 2018, 2019])\n",
    "\n",
    "plt.legend()\n",
    "plt.grid(axis='y')\n",
    "\n",
    "plt.show()"
   ]
  },
  {
   "cell_type": "markdown",
   "metadata": {},
   "source": [
    "### Total Trips of Each Passholder Type \n",
    "Looking at the plots, it is clear that most trips are done by people with a monthly pass or they are a walk up. It looks like none of the other passes became popular among users."
   ]
  },
  {
   "cell_type": "code",
   "execution_count": 37,
   "metadata": {},
   "outputs": [],
   "source": [
    "passholder_count = df.pivot_table(index=df.index.strftime(\"%Y-%m\"), values=\"trip_id\",\n",
    "                                columns=[\"passholder_type\"], aggfunc=np.size)\n",
    "\n",
    "passholder_count = passholder_count.drop(\"Testing\", 1)"
   ]
  },
  {
   "cell_type": "code",
   "execution_count": 39,
   "metadata": {},
   "outputs": [
    {
     "data": {
      "image/png": "[encoded data removed]",
      "text/plain": [
       "<Figure size 1440x504 with 1 Axes>"
      ]
     },
     "metadata": {
      "needs_background": "light"
     },
     "output_type": "display_data"
    }
   ],
   "source": [
    "plt.figure(figsize=(20,7))\n",
    "\n",
    "for column in passholder_count.columns:\n",
    "    passholder_count[column].plot(label=column)\n",
    "    \n",
    "plt.legend()\n",
    "plt.grid()\n",
    "\n",
    "plt.title(\"Total Montly Trips for Each Passholder Type\", fontsize=17)\n",
    "plt.ylabel(\"Total Trips\", fontsize=15)\n",
    "plt.xlabel(\"Months\", fontsize=16)\n",
    "# plt.xticks(np.arange(0,36,1))\n",
    "\n",
    "plt.show()"
   ]
  },
  {
   "cell_type": "markdown",
   "metadata": {},
   "source": [
    "### Duration of Each Passholder Type \n",
    "The duration spent by annual, flex, and monthly passholders are bout the same. the duration for one day and walk up passholders is a lot loonger than the other passholders. This makes scence because people who got a one day pass or are a walk up would want to make the most out of what they spent. "
   ]
  },
  {
   "cell_type": "code",
   "execution_count": 40,
   "metadata": {},
   "outputs": [
    {
     "data": {
      "image/png": "[encoded data removed]",
      "text/plain": [
       "<Figure size 720x576 with 1 Axes>"
      ]
     },
     "metadata": {
      "needs_background": "light"
     },
     "output_type": "display_data"
    }
   ],
   "source": [
    "duration_passholder_25 = df.groupby(\"passholder_type\")[\"duration\"].quantile(.25).drop(\"Testing\")\n",
    "duration_passholder_50 = df.groupby(\"passholder_type\")[\"duration\"].quantile(.50).drop(\"Testing\")\n",
    "duration_passholder_75 = df.groupby(\"passholder_type\")[\"duration\"].quantile(.75).drop(\"Testing\")\n",
    "\n",
    "plt.figure(figsize=(10, 8))\n",
    "\n",
    "bar_width = .25\n",
    "\n",
    "range1 = np.arange(5)\n",
    "range2 = [r + bar_width for r in range1]\n",
    "range3 = [r + bar_width for r in range2] \n",
    "\n",
    "plt.bar(range1, duration_passholder_25, width=bar_width, color=\"coral\", label=\"25%\")\n",
    "plt.bar(range2, duration_passholder_50, width=bar_width, color=\"teal\", label=\"50%\")\n",
    "plt.bar(range3, duration_passholder_75, width=bar_width, color=\"orange\", label=\"75%\")\n",
    "\n",
    "plt.title(\"Duration per Passholder Type\", fontsize=17)\n",
    "plt.ylabel(\"Duration in Minutes\", fontsize=15)\n",
    "plt.xlabel(\"Passholder Type\", fontsize=16)\n",
    "\n",
    "plt.xticks(range2, duration_passholder_75.index)\n",
    "\n",
    "plt.legend()\n",
    "plt.grid(axis='y')\n",
    "\n",
    "plt.show()"
   ]
  },
  {
   "cell_type": "markdown",
   "metadata": {},
   "source": [
    "### Total Trips per Bike Type\n",
    "Starting on October 2018, there was bike type added onto the data. Looking the graph The most common type of bike used is the stardard one. This could be because there are not many of the other types available. It could also mean that the other types are not popular among users."
   ]
  },
  {
   "cell_type": "code",
   "execution_count": 44,
   "metadata": {},
   "outputs": [
    {
     "data": {
      "image/png": "[encoded data removed]",
      "text/plain": [
       "<Figure size 576x360 with 1 Axes>"
      ]
     },
     "metadata": {
      "needs_background": "light"
     },
     "output_type": "display_data"
    }
   ],
   "source": [
    "bike_type_count = df.groupby(\"bike_type\").size()\n",
    "\n",
    "plt.figure(figsize=(8, 5))\n",
    "\n",
    "bike_type_count.plot.bar(color=\"darkcyan\")\n",
    "\n",
    "plt.title(\"Total Trips per Bike Type\", fontsize=15)\n",
    "plt.ylabel(\"Total Trips\", fontsize=14)\n",
    "plt.xlabel(\"Passholder Type\", fontsize=14)\n",
    "plt.xticks(rotation=0)\n",
    "\n",
    "plt.show()"
   ]
  },
  {
   "cell_type": "markdown",
   "metadata": {},
   "source": [
    "### Start Station and End Station Count\n",
    "For the table below, the index are starting stations and column labels are the end station. The value in each cell is the total trips that sarted in that cell's index and ended in that cell's column. The stations used where the top 15 most used stations with an id that is in the 3000's.\n",
    "\n",
    "One thing that's interesting is that round trips, trip that start and stop on the same station are common on all the stations on the table. \n",
    "\n",
    "The most common trip is from station 3030 to 3014, with 7001 trips and the number of trips from 3014 to 3030 is close at 6445 trips."
   ]
  },
  {
   "cell_type": "code",
   "execution_count": 51,
   "metadata": {},
   "outputs": [
    {
     "data": {
      "text/html": [
       "<div>\n",
       "<style scoped>\n",
       "    .dataframe tbody tr th:only-of-type {\n",
       "        vertical-align: middle;\n",
       "    }\n",
       "\n",
       "    .dataframe tbody tr th {\n",
       "        vertical-align: top;\n",
       "    }\n",
       "\n",
       "    .dataframe thead th {\n",
       "        text-align: right;\n",
       "    }\n",
       "</style>\n",
       "<table border=\"1\" class=\"dataframe\">\n",
       "  <thead>\n",
       "    <tr style=\"text-align: right;\">\n",
       "      <th>end_station</th>\n",
       "      <th>3005</th>\n",
       "      <th>3006</th>\n",
       "      <th>3014</th>\n",
       "      <th>3022</th>\n",
       "      <th>3030</th>\n",
       "      <th>3031</th>\n",
       "      <th>3034</th>\n",
       "      <th>3035</th>\n",
       "      <th>3038</th>\n",
       "      <th>3042</th>\n",
       "      <th>3063</th>\n",
       "      <th>3064</th>\n",
       "      <th>3067</th>\n",
       "      <th>3069</th>\n",
       "      <th>3082</th>\n",
       "    </tr>\n",
       "    <tr>\n",
       "      <th>start_station</th>\n",
       "      <th></th>\n",
       "      <th></th>\n",
       "      <th></th>\n",
       "      <th></th>\n",
       "      <th></th>\n",
       "      <th></th>\n",
       "      <th></th>\n",
       "      <th></th>\n",
       "      <th></th>\n",
       "      <th></th>\n",
       "      <th></th>\n",
       "      <th></th>\n",
       "      <th></th>\n",
       "      <th></th>\n",
       "      <th></th>\n",
       "    </tr>\n",
       "  </thead>\n",
       "  <tbody>\n",
       "    <tr>\n",
       "      <th>3005</th>\n",
       "      <td>2211</td>\n",
       "      <td>876</td>\n",
       "      <td>294</td>\n",
       "      <td>451</td>\n",
       "      <td>528</td>\n",
       "      <td>2832</td>\n",
       "      <td>1327</td>\n",
       "      <td>495</td>\n",
       "      <td>809</td>\n",
       "      <td>535</td>\n",
       "      <td>485</td>\n",
       "      <td>1050</td>\n",
       "      <td>1378</td>\n",
       "      <td>612</td>\n",
       "      <td>1018</td>\n",
       "    </tr>\n",
       "    <tr>\n",
       "      <th>3006</th>\n",
       "      <td>956</td>\n",
       "      <td>1165</td>\n",
       "      <td>133</td>\n",
       "      <td>228</td>\n",
       "      <td>220</td>\n",
       "      <td>872</td>\n",
       "      <td>413</td>\n",
       "      <td>408</td>\n",
       "      <td>683</td>\n",
       "      <td>295</td>\n",
       "      <td>419</td>\n",
       "      <td>206</td>\n",
       "      <td>556</td>\n",
       "      <td>473</td>\n",
       "      <td>612</td>\n",
       "    </tr>\n",
       "    <tr>\n",
       "      <th>3014</th>\n",
       "      <td>404</td>\n",
       "      <td>156</td>\n",
       "      <td>1419</td>\n",
       "      <td>543</td>\n",
       "      <td>6445</td>\n",
       "      <td>597</td>\n",
       "      <td>134</td>\n",
       "      <td>339</td>\n",
       "      <td>235</td>\n",
       "      <td>546</td>\n",
       "      <td>275</td>\n",
       "      <td>137</td>\n",
       "      <td>266</td>\n",
       "      <td>523</td>\n",
       "      <td>668</td>\n",
       "    </tr>\n",
       "    <tr>\n",
       "      <th>3022</th>\n",
       "      <td>522</td>\n",
       "      <td>144</td>\n",
       "      <td>503</td>\n",
       "      <td>1489</td>\n",
       "      <td>202</td>\n",
       "      <td>891</td>\n",
       "      <td>37</td>\n",
       "      <td>72</td>\n",
       "      <td>374</td>\n",
       "      <td>381</td>\n",
       "      <td>288</td>\n",
       "      <td>319</td>\n",
       "      <td>337</td>\n",
       "      <td>509</td>\n",
       "      <td>874</td>\n",
       "    </tr>\n",
       "    <tr>\n",
       "      <th>3030</th>\n",
       "      <td>1189</td>\n",
       "      <td>232</td>\n",
       "      <td>7001</td>\n",
       "      <td>410</td>\n",
       "      <td>1488</td>\n",
       "      <td>806</td>\n",
       "      <td>167</td>\n",
       "      <td>176</td>\n",
       "      <td>430</td>\n",
       "      <td>2224</td>\n",
       "      <td>394</td>\n",
       "      <td>399</td>\n",
       "      <td>393</td>\n",
       "      <td>762</td>\n",
       "      <td>1307</td>\n",
       "    </tr>\n",
       "    <tr>\n",
       "      <th>3031</th>\n",
       "      <td>3244</td>\n",
       "      <td>685</td>\n",
       "      <td>384</td>\n",
       "      <td>569</td>\n",
       "      <td>262</td>\n",
       "      <td>1665</td>\n",
       "      <td>769</td>\n",
       "      <td>828</td>\n",
       "      <td>466</td>\n",
       "      <td>413</td>\n",
       "      <td>591</td>\n",
       "      <td>1484</td>\n",
       "      <td>347</td>\n",
       "      <td>557</td>\n",
       "      <td>621</td>\n",
       "    </tr>\n",
       "    <tr>\n",
       "      <th>3034</th>\n",
       "      <td>1165</td>\n",
       "      <td>550</td>\n",
       "      <td>104</td>\n",
       "      <td>59</td>\n",
       "      <td>401</td>\n",
       "      <td>536</td>\n",
       "      <td>883</td>\n",
       "      <td>1222</td>\n",
       "      <td>165</td>\n",
       "      <td>244</td>\n",
       "      <td>277</td>\n",
       "      <td>662</td>\n",
       "      <td>179</td>\n",
       "      <td>272</td>\n",
       "      <td>104</td>\n",
       "    </tr>\n",
       "    <tr>\n",
       "      <th>3035</th>\n",
       "      <td>504</td>\n",
       "      <td>366</td>\n",
       "      <td>391</td>\n",
       "      <td>150</td>\n",
       "      <td>173</td>\n",
       "      <td>759</td>\n",
       "      <td>1194</td>\n",
       "      <td>1237</td>\n",
       "      <td>360</td>\n",
       "      <td>169</td>\n",
       "      <td>401</td>\n",
       "      <td>604</td>\n",
       "      <td>454</td>\n",
       "      <td>271</td>\n",
       "      <td>251</td>\n",
       "    </tr>\n",
       "    <tr>\n",
       "      <th>3038</th>\n",
       "      <td>577</td>\n",
       "      <td>448</td>\n",
       "      <td>420</td>\n",
       "      <td>563</td>\n",
       "      <td>690</td>\n",
       "      <td>568</td>\n",
       "      <td>203</td>\n",
       "      <td>245</td>\n",
       "      <td>1480</td>\n",
       "      <td>889</td>\n",
       "      <td>256</td>\n",
       "      <td>461</td>\n",
       "      <td>258</td>\n",
       "      <td>218</td>\n",
       "      <td>1134</td>\n",
       "    </tr>\n",
       "    <tr>\n",
       "      <th>3042</th>\n",
       "      <td>381</td>\n",
       "      <td>241</td>\n",
       "      <td>756</td>\n",
       "      <td>458</td>\n",
       "      <td>1717</td>\n",
       "      <td>664</td>\n",
       "      <td>177</td>\n",
       "      <td>141</td>\n",
       "      <td>332</td>\n",
       "      <td>1541</td>\n",
       "      <td>582</td>\n",
       "      <td>204</td>\n",
       "      <td>337</td>\n",
       "      <td>593</td>\n",
       "      <td>373</td>\n",
       "    </tr>\n",
       "    <tr>\n",
       "      <th>3063</th>\n",
       "      <td>509</td>\n",
       "      <td>301</td>\n",
       "      <td>271</td>\n",
       "      <td>327</td>\n",
       "      <td>497</td>\n",
       "      <td>311</td>\n",
       "      <td>195</td>\n",
       "      <td>356</td>\n",
       "      <td>214</td>\n",
       "      <td>398</td>\n",
       "      <td>1449</td>\n",
       "      <td>383</td>\n",
       "      <td>229</td>\n",
       "      <td>301</td>\n",
       "      <td>622</td>\n",
       "    </tr>\n",
       "    <tr>\n",
       "      <th>3064</th>\n",
       "      <td>695</td>\n",
       "      <td>340</td>\n",
       "      <td>140</td>\n",
       "      <td>336</td>\n",
       "      <td>397</td>\n",
       "      <td>1548</td>\n",
       "      <td>1000</td>\n",
       "      <td>534</td>\n",
       "      <td>695</td>\n",
       "      <td>246</td>\n",
       "      <td>510</td>\n",
       "      <td>1275</td>\n",
       "      <td>908</td>\n",
       "      <td>695</td>\n",
       "      <td>527</td>\n",
       "    </tr>\n",
       "    <tr>\n",
       "      <th>3067</th>\n",
       "      <td>1593</td>\n",
       "      <td>611</td>\n",
       "      <td>391</td>\n",
       "      <td>361</td>\n",
       "      <td>896</td>\n",
       "      <td>441</td>\n",
       "      <td>191</td>\n",
       "      <td>653</td>\n",
       "      <td>304</td>\n",
       "      <td>590</td>\n",
       "      <td>265</td>\n",
       "      <td>706</td>\n",
       "      <td>1281</td>\n",
       "      <td>321</td>\n",
       "      <td>777</td>\n",
       "    </tr>\n",
       "    <tr>\n",
       "      <th>3069</th>\n",
       "      <td>542</td>\n",
       "      <td>449</td>\n",
       "      <td>620</td>\n",
       "      <td>711</td>\n",
       "      <td>635</td>\n",
       "      <td>550</td>\n",
       "      <td>241</td>\n",
       "      <td>264</td>\n",
       "      <td>219</td>\n",
       "      <td>909</td>\n",
       "      <td>425</td>\n",
       "      <td>590</td>\n",
       "      <td>320</td>\n",
       "      <td>1743</td>\n",
       "      <td>1305</td>\n",
       "    </tr>\n",
       "    <tr>\n",
       "      <th>3082</th>\n",
       "      <td>1296</td>\n",
       "      <td>507</td>\n",
       "      <td>702</td>\n",
       "      <td>697</td>\n",
       "      <td>769</td>\n",
       "      <td>881</td>\n",
       "      <td>141</td>\n",
       "      <td>310</td>\n",
       "      <td>611</td>\n",
       "      <td>301</td>\n",
       "      <td>744</td>\n",
       "      <td>382</td>\n",
       "      <td>363</td>\n",
       "      <td>1288</td>\n",
       "      <td>1960</td>\n",
       "    </tr>\n",
       "  </tbody>\n",
       "</table>\n",
       "</div>"
      ],
      "text/plain": [
       "end_station    3005  3006  3014  3022  3030  3031  3034  3035  3038  3042  \\\n",
       "start_station                                                               \n",
       "3005           2211   876   294   451   528  2832  1327   495   809   535   \n",
       "3006            956  1165   133   228   220   872   413   408   683   295   \n",
       "3014            404   156  1419   543  6445   597   134   339   235   546   \n",
       "3022            522   144   503  1489   202   891    37    72   374   381   \n",
       "3030           1189   232  7001   410  1488   806   167   176   430  2224   \n",
       "3031           3244   685   384   569   262  1665   769   828   466   413   \n",
       "3034           1165   550   104    59   401   536   883  1222   165   244   \n",
       "3035            504   366   391   150   173   759  1194  1237   360   169   \n",
       "3038            577   448   420   563   690   568   203   245  1480   889   \n",
       "3042            381   241   756   458  1717   664   177   141   332  1541   \n",
       "3063            509   301   271   327   497   311   195   356   214   398   \n",
       "3064            695   340   140   336   397  1548  1000   534   695   246   \n",
       "3067           1593   611   391   361   896   441   191   653   304   590   \n",
       "3069            542   449   620   711   635   550   241   264   219   909   \n",
       "3082           1296   507   702   697   769   881   141   310   611   301   \n",
       "\n",
       "end_station    3063  3064  3067  3069  3082  \n",
       "start_station                                \n",
       "3005            485  1050  1378   612  1018  \n",
       "3006            419   206   556   473   612  \n",
       "3014            275   137   266   523   668  \n",
       "3022            288   319   337   509   874  \n",
       "3030            394   399   393   762  1307  \n",
       "3031            591  1484   347   557   621  \n",
       "3034            277   662   179   272   104  \n",
       "3035            401   604   454   271   251  \n",
       "3038            256   461   258   218  1134  \n",
       "3042            582   204   337   593   373  \n",
       "3063           1449   383   229   301   622  \n",
       "3064            510  1275   908   695   527  \n",
       "3067            265   706  1281   321   777  \n",
       "3069            425   590   320  1743  1305  \n",
       "3082            744   382   363  1288  1960  "
      ]
     },
     "execution_count": 51,
     "metadata": {},
     "output_type": "execute_result"
    }
   ],
   "source": [
    "top_stations = df[\"end_station\"].value_counts()\n",
    "top_stations = top_stations[top_stations.index < 4000][:15].index\n",
    "\n",
    "df_station = df[(df[\"start_station\"].isin(top_stations)) & (df[\"end_station\"].isin(top_stations))] \n",
    "\n",
    "pd.pivot_table(df_station, columns=\"end_station\", index=\"start_station\", values=\"trip_id\", aggfunc=np.size)\\\n",
    "    .fillna(0).astype(int)"
   ]
  },
  {
   "cell_type": "markdown",
   "metadata": {},
   "source": [
    "### Start Station and End Station Duration\n",
    "The table below shows the median duration from one station to the other. \n",
    "\n",
    "Round trip at any station is usually one of the longest trips that start on there. This makes sense since people who would make a round trip likely went to do something.\n",
    "\n",
    "the median durtion starting on a particular station and ending on another is about the same when the starting and ending stations are reversed."
   ]
  },
  {
   "cell_type": "code",
   "execution_count": 53,
   "metadata": {},
   "outputs": [
    {
     "data": {
      "text/html": [
       "<div>\n",
       "<style scoped>\n",
       "    .dataframe tbody tr th:only-of-type {\n",
       "        vertical-align: middle;\n",
       "    }\n",
       "\n",
       "    .dataframe tbody tr th {\n",
       "        vertical-align: top;\n",
       "    }\n",
       "\n",
       "    .dataframe thead th {\n",
       "        text-align: right;\n",
       "    }\n",
       "</style>\n",
       "<table border=\"1\" class=\"dataframe\">\n",
       "  <thead>\n",
       "    <tr style=\"text-align: right;\">\n",
       "      <th>end_station</th>\n",
       "      <th>3005</th>\n",
       "      <th>3006</th>\n",
       "      <th>3014</th>\n",
       "      <th>3022</th>\n",
       "      <th>3030</th>\n",
       "      <th>3031</th>\n",
       "      <th>3034</th>\n",
       "      <th>3035</th>\n",
       "      <th>3038</th>\n",
       "      <th>3042</th>\n",
       "      <th>3063</th>\n",
       "      <th>3064</th>\n",
       "      <th>3067</th>\n",
       "      <th>3069</th>\n",
       "      <th>3082</th>\n",
       "    </tr>\n",
       "    <tr>\n",
       "      <th>start_station</th>\n",
       "      <th></th>\n",
       "      <th></th>\n",
       "      <th></th>\n",
       "      <th></th>\n",
       "      <th></th>\n",
       "      <th></th>\n",
       "      <th></th>\n",
       "      <th></th>\n",
       "      <th></th>\n",
       "      <th></th>\n",
       "      <th></th>\n",
       "      <th></th>\n",
       "      <th></th>\n",
       "      <th></th>\n",
       "      <th></th>\n",
       "    </tr>\n",
       "  </thead>\n",
       "  <tbody>\n",
       "    <tr>\n",
       "      <th>3005</th>\n",
       "      <td>23</td>\n",
       "      <td>4</td>\n",
       "      <td>19</td>\n",
       "      <td>15</td>\n",
       "      <td>12</td>\n",
       "      <td>4</td>\n",
       "      <td>5</td>\n",
       "      <td>12</td>\n",
       "      <td>8</td>\n",
       "      <td>14</td>\n",
       "      <td>9</td>\n",
       "      <td>3</td>\n",
       "      <td>6</td>\n",
       "      <td>11</td>\n",
       "      <td>15</td>\n",
       "    </tr>\n",
       "    <tr>\n",
       "      <th>3006</th>\n",
       "      <td>3</td>\n",
       "      <td>20</td>\n",
       "      <td>18</td>\n",
       "      <td>16</td>\n",
       "      <td>9</td>\n",
       "      <td>4</td>\n",
       "      <td>6</td>\n",
       "      <td>5</td>\n",
       "      <td>7</td>\n",
       "      <td>13</td>\n",
       "      <td>4</td>\n",
       "      <td>16</td>\n",
       "      <td>6</td>\n",
       "      <td>9</td>\n",
       "      <td>14</td>\n",
       "    </tr>\n",
       "    <tr>\n",
       "      <th>3014</th>\n",
       "      <td>18</td>\n",
       "      <td>16</td>\n",
       "      <td>24</td>\n",
       "      <td>10</td>\n",
       "      <td>6</td>\n",
       "      <td>12</td>\n",
       "      <td>19</td>\n",
       "      <td>17</td>\n",
       "      <td>13</td>\n",
       "      <td>8</td>\n",
       "      <td>14</td>\n",
       "      <td>16</td>\n",
       "      <td>13</td>\n",
       "      <td>14</td>\n",
       "      <td>10</td>\n",
       "    </tr>\n",
       "    <tr>\n",
       "      <th>3022</th>\n",
       "      <td>15</td>\n",
       "      <td>16</td>\n",
       "      <td>10</td>\n",
       "      <td>23</td>\n",
       "      <td>8</td>\n",
       "      <td>12</td>\n",
       "      <td>23</td>\n",
       "      <td>20</td>\n",
       "      <td>9</td>\n",
       "      <td>6</td>\n",
       "      <td>11</td>\n",
       "      <td>13</td>\n",
       "      <td>11</td>\n",
       "      <td>11</td>\n",
       "      <td>3</td>\n",
       "    </tr>\n",
       "    <tr>\n",
       "      <th>3030</th>\n",
       "      <td>10</td>\n",
       "      <td>12</td>\n",
       "      <td>6</td>\n",
       "      <td>8</td>\n",
       "      <td>20</td>\n",
       "      <td>8</td>\n",
       "      <td>16</td>\n",
       "      <td>17</td>\n",
       "      <td>6</td>\n",
       "      <td>3</td>\n",
       "      <td>9</td>\n",
       "      <td>12</td>\n",
       "      <td>8</td>\n",
       "      <td>5</td>\n",
       "      <td>6</td>\n",
       "    </tr>\n",
       "    <tr>\n",
       "      <th>3031</th>\n",
       "      <td>4</td>\n",
       "      <td>4</td>\n",
       "      <td>11</td>\n",
       "      <td>12</td>\n",
       "      <td>9</td>\n",
       "      <td>20</td>\n",
       "      <td>8</td>\n",
       "      <td>7</td>\n",
       "      <td>6</td>\n",
       "      <td>11</td>\n",
       "      <td>4</td>\n",
       "      <td>4</td>\n",
       "      <td>14</td>\n",
       "      <td>6</td>\n",
       "      <td>12</td>\n",
       "    </tr>\n",
       "    <tr>\n",
       "      <th>3034</th>\n",
       "      <td>5</td>\n",
       "      <td>6</td>\n",
       "      <td>19</td>\n",
       "      <td>21</td>\n",
       "      <td>12</td>\n",
       "      <td>9</td>\n",
       "      <td>21</td>\n",
       "      <td>6</td>\n",
       "      <td>12</td>\n",
       "      <td>15</td>\n",
       "      <td>10</td>\n",
       "      <td>7</td>\n",
       "      <td>11</td>\n",
       "      <td>14</td>\n",
       "      <td>21</td>\n",
       "    </tr>\n",
       "    <tr>\n",
       "      <th>3035</th>\n",
       "      <td>12</td>\n",
       "      <td>9</td>\n",
       "      <td>20</td>\n",
       "      <td>17</td>\n",
       "      <td>14</td>\n",
       "      <td>7</td>\n",
       "      <td>6</td>\n",
       "      <td>25</td>\n",
       "      <td>11</td>\n",
       "      <td>21</td>\n",
       "      <td>8</td>\n",
       "      <td>5</td>\n",
       "      <td>8</td>\n",
       "      <td>13</td>\n",
       "      <td>16</td>\n",
       "    </tr>\n",
       "    <tr>\n",
       "      <th>3038</th>\n",
       "      <td>9</td>\n",
       "      <td>8</td>\n",
       "      <td>10</td>\n",
       "      <td>10</td>\n",
       "      <td>4</td>\n",
       "      <td>6</td>\n",
       "      <td>11</td>\n",
       "      <td>12</td>\n",
       "      <td>21</td>\n",
       "      <td>6</td>\n",
       "      <td>9</td>\n",
       "      <td>8</td>\n",
       "      <td>17</td>\n",
       "      <td>9</td>\n",
       "      <td>9</td>\n",
       "    </tr>\n",
       "    <tr>\n",
       "      <th>3042</th>\n",
       "      <td>15</td>\n",
       "      <td>13</td>\n",
       "      <td>9</td>\n",
       "      <td>6</td>\n",
       "      <td>4</td>\n",
       "      <td>11</td>\n",
       "      <td>14</td>\n",
       "      <td>19</td>\n",
       "      <td>9</td>\n",
       "      <td>31</td>\n",
       "      <td>8</td>\n",
       "      <td>15</td>\n",
       "      <td>11</td>\n",
       "      <td>9</td>\n",
       "      <td>8</td>\n",
       "    </tr>\n",
       "    <tr>\n",
       "      <th>3063</th>\n",
       "      <td>7</td>\n",
       "      <td>6</td>\n",
       "      <td>17</td>\n",
       "      <td>13</td>\n",
       "      <td>8</td>\n",
       "      <td>6</td>\n",
       "      <td>10</td>\n",
       "      <td>9</td>\n",
       "      <td>10</td>\n",
       "      <td>11</td>\n",
       "      <td>25</td>\n",
       "      <td>6</td>\n",
       "      <td>10</td>\n",
       "      <td>7</td>\n",
       "      <td>12</td>\n",
       "    </tr>\n",
       "    <tr>\n",
       "      <th>3064</th>\n",
       "      <td>4</td>\n",
       "      <td>20</td>\n",
       "      <td>19</td>\n",
       "      <td>15</td>\n",
       "      <td>11</td>\n",
       "      <td>4</td>\n",
       "      <td>5</td>\n",
       "      <td>5</td>\n",
       "      <td>8</td>\n",
       "      <td>15</td>\n",
       "      <td>5</td>\n",
       "      <td>19</td>\n",
       "      <td>6</td>\n",
       "      <td>8</td>\n",
       "      <td>15</td>\n",
       "    </tr>\n",
       "    <tr>\n",
       "      <th>3067</th>\n",
       "      <td>5</td>\n",
       "      <td>5</td>\n",
       "      <td>11</td>\n",
       "      <td>12</td>\n",
       "      <td>6</td>\n",
       "      <td>10</td>\n",
       "      <td>10</td>\n",
       "      <td>8</td>\n",
       "      <td>8</td>\n",
       "      <td>9</td>\n",
       "      <td>8</td>\n",
       "      <td>5</td>\n",
       "      <td>22</td>\n",
       "      <td>7</td>\n",
       "      <td>10</td>\n",
       "    </tr>\n",
       "    <tr>\n",
       "      <th>3069</th>\n",
       "      <td>11</td>\n",
       "      <td>8</td>\n",
       "      <td>17</td>\n",
       "      <td>11</td>\n",
       "      <td>6</td>\n",
       "      <td>6</td>\n",
       "      <td>14</td>\n",
       "      <td>14</td>\n",
       "      <td>9</td>\n",
       "      <td>10</td>\n",
       "      <td>5</td>\n",
       "      <td>8</td>\n",
       "      <td>6</td>\n",
       "      <td>32</td>\n",
       "      <td>10</td>\n",
       "    </tr>\n",
       "    <tr>\n",
       "      <th>3082</th>\n",
       "      <td>15</td>\n",
       "      <td>15</td>\n",
       "      <td>9</td>\n",
       "      <td>3</td>\n",
       "      <td>6</td>\n",
       "      <td>12</td>\n",
       "      <td>21</td>\n",
       "      <td>13</td>\n",
       "      <td>9</td>\n",
       "      <td>11</td>\n",
       "      <td>13</td>\n",
       "      <td>16</td>\n",
       "      <td>12</td>\n",
       "      <td>9</td>\n",
       "      <td>26</td>\n",
       "    </tr>\n",
       "  </tbody>\n",
       "</table>\n",
       "</div>"
      ],
      "text/plain": [
       "end_station    3005  3006  3014  3022  3030  3031  3034  3035  3038  3042  \\\n",
       "start_station                                                               \n",
       "3005             23     4    19    15    12     4     5    12     8    14   \n",
       "3006              3    20    18    16     9     4     6     5     7    13   \n",
       "3014             18    16    24    10     6    12    19    17    13     8   \n",
       "3022             15    16    10    23     8    12    23    20     9     6   \n",
       "3030             10    12     6     8    20     8    16    17     6     3   \n",
       "3031              4     4    11    12     9    20     8     7     6    11   \n",
       "3034              5     6    19    21    12     9    21     6    12    15   \n",
       "3035             12     9    20    17    14     7     6    25    11    21   \n",
       "3038              9     8    10    10     4     6    11    12    21     6   \n",
       "3042             15    13     9     6     4    11    14    19     9    31   \n",
       "3063              7     6    17    13     8     6    10     9    10    11   \n",
       "3064              4    20    19    15    11     4     5     5     8    15   \n",
       "3067              5     5    11    12     6    10    10     8     8     9   \n",
       "3069             11     8    17    11     6     6    14    14     9    10   \n",
       "3082             15    15     9     3     6    12    21    13     9    11   \n",
       "\n",
       "end_station    3063  3064  3067  3069  3082  \n",
       "start_station                                \n",
       "3005              9     3     6    11    15  \n",
       "3006              4    16     6     9    14  \n",
       "3014             14    16    13    14    10  \n",
       "3022             11    13    11    11     3  \n",
       "3030              9    12     8     5     6  \n",
       "3031              4     4    14     6    12  \n",
       "3034             10     7    11    14    21  \n",
       "3035              8     5     8    13    16  \n",
       "3038              9     8    17     9     9  \n",
       "3042              8    15    11     9     8  \n",
       "3063             25     6    10     7    12  \n",
       "3064              5    19     6     8    15  \n",
       "3067              8     5    22     7    10  \n",
       "3069              5     8     6    32    10  \n",
       "3082             13    16    12     9    26  "
      ]
     },
     "execution_count": 53,
     "metadata": {},
     "output_type": "execute_result"
    }
   ],
   "source": [
    "pd.pivot_table(df_station, columns=\"end_station\", index=\"start_station\", values=\"duration\", aggfunc=np.median).astype(int)"
   ]
  },
  {
   "cell_type": "markdown",
   "metadata": {},
   "source": [
    "### Round Trip vs One Way\n",
    "The two types of route categories are round trip and one xay. A round trip is a trip that starts and ends in one station. A one way trip starts and ends in two different stations.\n",
    "\n",
    "The left graph shows us that majority of the trips are one way trips and the right one shows us that the median duration of round trips are about three times longer than one way trips."
   ]
  },
  {
   "cell_type": "code",
   "execution_count": 56,
   "metadata": {},
   "outputs": [
    {
     "data": {
      "image/png": "[encoded data removed]",
      "text/plain": [
       "<Figure size 1440x360 with 2 Axes>"
      ]
     },
     "metadata": {
      "needs_background": "light"
     },
     "output_type": "display_data"
    }
   ],
   "source": [
    "trip_route_count = df[\"trip_route_category\"].value_counts()\n",
    "\n",
    "plt.figure(figsize=(20,5))\n",
    "\n",
    "plt.subplot(1,2,1)\n",
    "\n",
    "trip_route_count.plot(kind=\"bar\", color=\"teal\")\n",
    "\n",
    "plt.title(\"Total Trips per Route Category\", fontsize=15)\n",
    "plt.xlabel(\"Route Category\", fontsize=14)\n",
    "plt.ylabel(\"Total Trips\", fontsize=13)\n",
    "plt.xticks(rotation=0)\n",
    "\n",
    "plt.subplot(1,2,2)\n",
    "\n",
    "trip_route_duration = df.groupby(\"trip_route_category\")[\"duration\"].median()\n",
    "\n",
    "trip_route_duration.plot(kind=\"bar\", color=\"teal\")\n",
    "\n",
    "plt.title(\"Median Duration per Route Category\", fontsize=15)\n",
    "plt.xlabel(\"Route Category\", fontsize=14)\n",
    "plt.ylabel(\"Duration in Minutes\", fontsize=13)\n",
    "plt.xticks(rotation=0)\n",
    "\n",
    "plt.show()"
   ]
  },
  {
   "cell_type": "markdown",
   "metadata": {},
   "source": [
    "### Map\n",
    "This map marks the stations in the data. Three of the 216 stations are not included since their coordinates are not given. The size of the markers respersents the total visits for that station. This is the sum of total start and total end. To make every station visible, the markers have a minimum size of 3.\n",
    "\n",
    "From the map, we can see that the stations in Downtown Los Angeles are used a lot more than other location. The next most used stations are located in Santa Monica. The other stations are located in San Pedro, Pasadena, and Burbank."
   ]
  },
  {
   "cell_type": "code",
   "execution_count": 69,
   "metadata": {},
   "outputs": [],
   "source": [
    "import plotly.graph_objects as go\n",
    "\n",
    "def marker_size(total_visits):\n",
    "    size = total_visits/800\n",
    "    \n",
    "    if size > 3:\n",
    "        return size\n",
    "    \n",
    "    return 3\n"
   ]
  },
  {
   "cell_type": "code",
   "execution_count": 67,
   "metadata": {},
   "outputs": [],
   "source": [
    "stations = df[[\"start_station\", \"start_lat\", \"start_lon\"]].dropna().drop_duplicates([\"start_station\"]).reset_index(drop=True)\n",
    "\n",
    "stations.rename(columns= {\"start_station\": \"station\", \"start_lat\":\"lat\", \"start_lon\":\"lon\"}, inplace=True)\n",
    "\n",
    "stations[\"total_start\"] = stations.station.map(lambda x: len(df[df.start_station == x]))\n",
    "stations[\"total_end\"] = stations.station.map(lambda x: len(df[df.end_station == x]))\n",
    " \n",
    "stations[\"total_visits\"] = stations[\"total_start\"] + stations[\"total_end\"] \n"
   ]
  },
  {
   "cell_type": "code",
   "execution_count": 70,
   "metadata": {},
   "outputs": [
    {
     "data": {
      "application/vnd.plotly.v1+json": {
       "config": {
        "plotlyServerURL": "https://plot.ly"
       },
       "data": [
        {
         "lat": [
          34.0566101,
          34.0528984,
          34.0498886,
          34.0456085,
          34.0460701,
          34.040599799999995,
          34.0447006,
          34.0491982,
          34.0493011,
          34.0437317,
          34.0392189,
          34.045539899999994,
          34.0348015,
          34.0420609,
          34.0485497,
          34.0399818,
          34.0535698,
          34.0633888,
          34.040988899999995,
          34.0519409,
          34.045421600000005,
          34.0386086,
          34.0441589,
          34.0605583,
          34.053199799999994,
          34.0504799,
          34.051101700000004,
          34.05696870000001,
          34.0421104,
          34.0451813,
          34.0310516,
          34.0484009,
          34.04774860000001,
          34.0358009,
          34.028511,
          34.034210200000004,
          34.0468216,
          34.0400391,
          34.0508804,
          34.03918839999999,
          34.0501404,
          0,
          34.0348816,
          34.046611799999994,
          34.03746029999999,
          34.048851,
          34.0583191,
          34.0509109,
          34.0328598,
          34.0441704,
          34.0356789,
          34.0499802,
          34.063179,
          34.0642815,
          34.03987120000001,
          34.0379486,
          34.037048299999995,
          34.0468102,
          34.0530205,
          34.041130100000004,
          34.0416908,
          34.0318909,
          34.05772020000001,
          34.0465202,
          33.987381,
          34.024479,
          34.147812,
          34.14991,
          34.13785900000001,
          34.154270000000004,
          34.144981,
          34.142361,
          34.146961,
          34.14962,
          34.160709000000004,
          34.147499,
          34.145748,
          34.144588,
          34.04472,
          34.150471,
          34.140999,
          34.146069,
          34.146221000000004,
          34.145691,
          34.14175,
          34.142399,
          34.145901,
          34.147652,
          34.133011,
          34.143822,
          34.145247999999995,
          34.13821,
          34.156181,
          34.13525,
          34.15612,
          34.149712,
          34.165291,
          34.145908,
          33.766659000000004,
          33.771759,
          33.74136,
          33.725819,
          33.74913,
          33.733521,
          33.710978999999995,
          33.74892,
          33.719261,
          34.137951,
          34.056702,
          33.738979,
          33.772301,
          33.779819,
          33.993771,
          33.988129,
          33.99868,
          33.998341,
          34.000881,
          33.99556,
          34.023392,
          33.984341,
          34.014309000000004,
          33.996239,
          33.984928000000004,
          33.991161,
          33.988419,
          33.994701,
          34.074829,
          34.030628,
          34.018059,
          34.028679,
          34.020302,
          34.028351,
          34.023708,
          34.03017,
          34.02404,
          34.027618,
          34.025859999999994,
          34.026291,
          34.04739,
          34.01252,
          34.062279,
          34.06258,
          34.057652000000004,
          34.054031,
          34.056808000000004,
          34.059689,
          34.014309000000004,
          33.984341,
          34.057709,
          33.988419,
          34.000881,
          33.991161,
          33.998321999999995,
          34.04887,
          34.066990000000004,
          33.99556,
          33.988129,
          34.022518,
          34.017681,
          34.00351,
          34.02655,
          34.02018,
          34.029121,
          33.996239,
          33.99958,
          33.984928000000004,
          34.025688,
          34.023392,
          33.993728999999995,
          34.022449,
          34.005871,
          34.027771,
          34.024570000000004,
          34.028659999999995,
          34.02948,
          33.997231,
          34.020061,
          33.9986,
          33.9953,
          34.02338,
          34.030472,
          34.017368,
          33.982921999999995,
          34.036770000000004,
          34.036621000000004,
          34.027882,
          34.022331,
          34.036678,
          34.000332,
          34.03352,
          34.03046,
          34.172451,
          34.035351,
          34.009021999999995,
          34.069271,
          33.980789,
          34.162890999999995,
          34.01688,
          34.02697,
          33.993019,
          34.075611,
          34.026829,
          34.033642,
          34.04813,
          34.063351000000004,
          34.011799,
          33.986511,
          34.027828,
          34.099049,
          34.098011,
          34.092490999999995,
          34.051899,
          34.02618
         ],
         "lon": [
          -118.23721,
          -118.24156,
          -118.25588,
          -118.23703,
          -118.23309,
          -118.25384,
          -118.25244,
          -118.25283,
          -118.23881000000002,
          -118.26014,
          -118.23649,
          -118.25667,
          -118.23128,
          -118.26338,
          -118.25905,
          -118.2664,
          -118.26636,
          -118.23616,
          -118.2558,
          -118.24353,
          -118.25352,
          -118.26086,
          -118.25158,
          -118.23833,
          -118.25095,
          -118.25459,
          -118.26456,
          -118.25359,
          -118.25619,
          -118.25024,
          -118.26709,
          -118.26095,
          -118.24317,
          -118.23317,
          -118.25667,
          -118.25459,
          -118.24835,
          -118.26302,
          -118.24825,
          -118.23253,
          -118.23324,
          0,
          -118.25769,
          -118.26273,
          -118.26538,
          -118.24642,
          -118.24609,
          -118.24097,
          -118.26808,
          -118.26117,
          -118.27081,
          -118.24716,
          -118.24588,
          -118.23894,
          -118.25003999999998,
          -118.25627,
          -118.25487,
          -118.25698,
          -118.24795,
          -118.26798,
          -118.23535,
          -118.25018,
          -118.24897,
          -118.23741,
          -118.472832,
          -118.393867,
          -118.132217,
          -118.13839,
          -118.122414,
          -118.142151,
          -118.13826,
          -118.14151,
          -118.139839,
          -118.14431,
          -118.132401,
          -118.14801,
          -118.144287,
          -118.144592,
          -118.266243,
          -118.132019,
          -118.13208799999998,
          -118.129181,
          -118.135262,
          -118.148239,
          -118.14906299999998,
          -118.132652,
          -118.116539,
          -118.145569,
          -118.14856,
          -118.154099,
          -118.15007,
          -118.147079,
          -118.166687,
          -118.13237,
          -118.151192,
          -118.160172,
          -118.15097,
          -118.12175,
          -118.261017,
          -118.276543,
          -118.278069,
          -118.28051,
          -118.280182,
          -118.277786,
          -118.284668,
          -118.275192,
          -118.282722,
          -118.128502,
          -118.231392,
          -118.279266,
          -118.268044,
          -118.263023,
          -118.453667,
          -118.471741,
          -118.472977,
          -118.461014,
          -118.46891,
          -118.481552,
          -118.479637,
          -118.47155,
          -118.491341,
          -118.477448,
          -118.469963,
          -118.468292,
          -118.45163,
          -118.464081,
          -118.25872,
          -118.2696,
          -118.286728,
          -118.284111,
          -118.281181,
          -118.288673,
          -118.279167,
          -118.280952,
          -118.283409,
          -118.280678,
          -118.284103,
          -118.277687,
          -118.218849,
          -118.285896,
          -118.271523,
          -118.290092,
          -118.292183,
          -118.27092,
          -118.275002,
          -118.29466200000002,
          -118.491341,
          -118.47155,
          -118.279762,
          -118.45163,
          -118.46891,
          -118.468292,
          -118.460983,
          -118.2743,
          -118.290878,
          -118.481552,
          -118.471741,
          -118.400589,
          -118.409081,
          -118.43438,
          -118.40846299999998,
          -118.40403,
          -118.403168,
          -118.477448,
          -118.44136,
          -118.469963,
          -118.395302,
          -118.399223,
          -118.45356,
          -118.438332,
          -118.429161,
          -118.38726,
          -118.394081,
          -118.410294,
          -118.410469,
          -118.445969,
          -118.422684,
          -118.472977,
          -118.464844,
          -118.479637,
          -118.420982,
          -118.420601,
          -118.410927,
          -118.425377,
          -118.425308,
          -118.388901,
          -118.415771,
          -118.425339,
          -118.402321,
          -118.24183700000002,
          -118.389099,
          -118.370369,
          -118.434143,
          -118.425011,
          -118.296593,
          -118.414902,
          -118.370163,
          -118.428452,
          -118.428207,
          -118.414909,
          -118.291862,
          -118.393517,
          -118.291313,
          -118.271027,
          -118.296799,
          -118.419533,
          -118.441917,
          -118.247139,
          -118.291496,
          -118.287071,
          -118.291443,
          -118.293678,
          -118.238319
         ],
         "marker": {
          "size": [
           63.91125,
           16.4725,
           28.7825,
           3.43,
           37.56625,
           21.51125,
           58.86375,
           32.9375,
           49.63125,
           21.10375,
           12.06125,
           36.1775,
           11.90125,
           31.35375,
           81.455,
           25.60625,
           11.04125,
           19.075,
           10.65375,
           59.64,
           22.24875,
           23.115,
           21.49,
           9.37,
           25.95,
           30.96375,
           19.3675,
           29.7425,
           29.455,
           38.7975,
           4.91375,
           38.6075,
           22.86375,
           15.4425,
           3.56875,
           3,
           36.62,
           3,
           48.60125,
           14.05875,
           4.4,
           3,
           3,
           28.44125,
           11.505,
           20.3225,
           9.5625,
           20.84375,
           6.19375,
           27.86375,
           5.63625,
           24.2425,
           15.4075,
           9.87875,
           9.75375,
           3,
           5.265,
           50.145,
           14.505,
           18.47875,
           30.11375,
           6.71875,
           8.435,
           52.96,
           3,
           3,
           3,
           3,
           5.51875,
           3,
           4.7175,
           4.25875,
           3,
           3,
           3,
           7.5925,
           3,
           5.0025,
           3,
           4.1425,
           4.48625,
           3.905,
           5.54875,
           4.4775,
           5.86375,
           3.69,
           4.91875,
           3,
           3.53375,
           3,
           3.84,
           3,
           6.9225,
           3.05375,
           3,
           3,
           3,
           3,
           3,
           3,
           3,
           3.14625,
           4.025,
           4.0325,
           7.7725,
           3,
           3.77,
           5.1175,
           3,
           5.6025,
           3,
           3,
           3.86625,
           12.665,
           3.7325,
           3.17625,
           6.4625,
           50.62,
           3.8225,
           36.12125,
           40.4125,
           15.25375,
           11.105,
           10.47125,
           6.56625,
           3,
           9.27125,
           3,
           3,
           3,
           4.4825,
           3,
           3.10375,
           3,
           3,
           3,
           3,
           3,
           3,
           3,
           3,
           3,
           3,
           3,
           3,
           3,
           3.9125,
           3.91625,
           3,
           3,
           3,
           3,
           3,
           3,
           3,
           6.56875,
           3,
           3,
           3,
           3,
           3,
           3,
           3,
           3,
           3,
           3,
           3,
           3,
           3,
           3,
           3,
           3,
           3,
           3,
           3,
           3,
           3,
           3,
           3,
           3,
           3,
           3,
           3,
           3,
           3,
           3,
           3,
           3,
           3,
           3,
           3,
           3,
           3,
           3,
           3,
           3,
           3,
           3,
           3,
           3,
           3,
           3,
           3,
           3,
           3,
           3,
           3,
           3,
           3,
           3,
           3,
           3,
           3
          ]
         },
         "mode": "markers",
         "text": [
          "Station ID: 3014",
          "Station ID: 3016",
          "Station ID: 3032",
          "Station ID: 3021",
          "Station ID: 3022",
          "Station ID: 3076",
          "Station ID: 3031",
          "Station ID: 3063",
          "Station ID: 3042",
          "Station ID: 3018",
          "Station ID: 3054",
          "Station ID: 3006",
          "Station ID: 3037",
          "Station ID: 3034",
          "Station ID: 3005",
          "Station ID: 3047",
          "Station ID: 3040",
          "Station ID: 3066",
          "Station ID: 3033",
          "Station ID: 3030",
          "Station ID: 3051",
          "Station ID: 3019",
          "Station ID: 3055",
          "Station ID: 3065",
          "Station ID: 3068",
          "Station ID: 3007",
          "Station ID: 3052",
          "Station ID: 3049",
          "Station ID: 3075",
          "Station ID: 3067",
          "Station ID: 3020",
          "Station ID: 3035",
          "Station ID: 3062",
          "Station ID: 3058",
          "Station ID: 3045",
          "Station ID: 3080",
          "Station ID: 3038",
          "Station ID: 3053",
          "Station ID: 3069",
          "Station ID: 3036",
          "Station ID: 3079",
          "Station ID: 4108",
          "Station ID: 3060",
          "Station ID: 3008",
          "Station ID: 3056",
          "Station ID: 3029",
          "Station ID: 3028",
          "Station ID: 3023",
          "Station ID: 3025",
          "Station ID: 3074",
          "Station ID: 3057",
          "Station ID: 3027",
          "Station ID: 3026",
          "Station ID: 3078",
          "Station ID: 3077",
          "Station ID: 3059",
          "Station ID: 3010",
          "Station ID: 3064",
          "Station ID: 3046",
          "Station ID: 3011",
          "Station ID: 3048",
          "Station ID: 3081",
          "Station ID: 3024",
          "Station ID: 3082",
          "Station ID: 3009",
          "Station ID: 3039",
          "Station ID: 4155",
          "Station ID: 4156",
          "Station ID: 4176",
          "Station ID: 4150",
          "Station ID: 4177",
          "Station ID: 4151",
          "Station ID: 4169",
          "Station ID: 4148",
          "Station ID: 4170",
          "Station ID: 4162",
          "Station ID: 4143",
          "Station ID: 4142",
          "Station ID: 3061",
          "Station ID: 4163",
          "Station ID: 4157",
          "Station ID: 4183",
          "Station ID: 4181",
          "Station ID: 4138",
          "Station ID: 4165",
          "Station ID: 4144",
          "Station ID: 4159",
          "Station ID: 4146",
          "Station ID: 4160",
          "Station ID: 4167",
          "Station ID: 4147",
          "Station ID: 4149",
          "Station ID: 4153",
          "Station ID: 4158",
          "Station ID: 4154",
          "Station ID: 4152",
          "Station ID: 4174",
          "Station ID: 4166",
          "Station ID: 4125",
          "Station ID: 4136",
          "Station ID: 4134",
          "Station ID: 4129",
          "Station ID: 4132",
          "Station ID: 4133",
          "Station ID: 4126",
          "Station ID: 4127",
          "Station ID: 4130",
          "Station ID: 4180",
          "Station ID: 4194",
          "Station ID: 4131",
          "Station ID: 4135",
          "Station ID: 3013",
          "Station ID: 4205",
          "Station ID: 4212",
          "Station ID: 4208",
          "Station ID: 4206",
          "Station ID: 4207",
          "Station ID: 4214",
          "Station ID: 4216",
          "Station ID: 4210",
          "Station ID: 4215",
          "Station ID: 4209",
          "Station ID: 4211",
          "Station ID: 4202",
          "Station ID: 4204",
          "Station ID: 4213",
          "Station ID: 4220",
          "Station ID: 4227",
          "Station ID: 4244",
          "Station ID: 4254",
          "Station ID: 4249",
          "Station ID: 4248",
          "Station ID: 4246",
          "Station ID: 4250",
          "Station ID: 4245",
          "Station ID: 4267",
          "Station ID: 4273",
          "Station ID: 4266",
          "Station ID: 4276",
          "Station ID: 4275",
          "Station ID: 4293",
          "Station ID: 4304",
          "Station ID: 4306",
          "Station ID: 4315",
          "Station ID: 4313",
          "Station ID: 4311",
          "Station ID: 4344",
          "Station ID: 4346",
          "Station ID: 4314",
          "Station ID: 4352",
          "Station ID: 4348",
          "Station ID: 4342",
          "Station ID: 4343",
          "Station ID: 4300",
          "Station ID: 4312",
          "Station ID: 4345",
          "Station ID: 4353",
          "Station ID: 4325",
          "Station ID: 4354",
          "Station ID: 4331",
          "Station ID: 4324",
          "Station ID: 4334",
          "Station ID: 4329",
          "Station ID: 4349",
          "Station ID: 4323",
          "Station ID: 4347",
          "Station ID: 4330",
          "Station ID: 4335",
          "Station ID: 4351",
          "Station ID: 4336",
          "Station ID: 4322",
          "Station ID: 4356",
          "Station ID: 4369",
          "Station ID: 4357",
          "Station ID: 4332",
          "Station ID: 4333",
          "Station ID: 4328",
          "Station ID: 4350",
          "Station ID: 4341",
          "Station ID: 4340",
          "Station ID: 4382",
          "Station ID: 4379",
          "Station ID: 4380",
          "Station ID: 4373",
          "Station ID: 4374",
          "Station ID: 4372",
          "Station ID: 4378",
          "Station ID: 4385",
          "Station ID: 4381",
          "Station ID: 4387",
          "Station ID: 4363",
          "Station ID: 4327",
          "Station ID: 4389",
          "Station ID: 4383",
          "Station ID: 4390",
          "Station ID: 4394",
          "Station ID: 4395",
          "Station ID: 4397",
          "Station ID: 4396",
          "Station ID: 4337",
          "Station ID: 4401",
          "Station ID: 4393",
          "Station ID: 4247",
          "Station ID: 4404",
          "Station ID: 4410",
          "Station ID: 4408",
          "Station ID: 4409",
          "Station ID: 4400",
          "Station ID: 4301",
          "Station ID: 4303",
          "Station ID: 4302",
          "Station ID: 4405",
          "Station ID: 4362"
         ],
         "type": "scattermapbox"
        }
       ],
       "layout": {
        "hovermode": "closest",
        "mapbox": {
         "accesstoken": "pk.eyJ1IjoiZmFsaTE5OTUiLCJhIjoiY2p4MTVibzB6MDZhMTQ4cXJwa2V1cHB1diJ9.1C2vrOF4nrRHBHHAcQHa4w",
         "bearing": 0,
         "center": {
          "lat": 34,
          "lon": -118
         },
         "pitch": 0,
         "zoom": 8
        },
        "template": {
         "data": {
          "bar": [
           {
            "error_x": {
             "color": "#2a3f5f"
            },
            "error_y": {
             "color": "#2a3f5f"
            },
            "marker": {
             "line": {
              "color": "#E5ECF6",
              "width": 0.5
             }
            },
            "type": "bar"
           }
          ],
          "barpolar": [
           {
            "marker": {
             "line": {
              "color": "#E5ECF6",
              "width": 0.5
             }
            },
            "type": "barpolar"
           }
          ],
          "carpet": [
           {
            "aaxis": {
             "endlinecolor": "#2a3f5f",
             "gridcolor": "white",
             "linecolor": "white",
             "minorgridcolor": "white",
             "startlinecolor": "#2a3f5f"
            },
            "baxis": {
             "endlinecolor": "#2a3f5f",
             "gridcolor": "white",
             "linecolor": "white",
             "minorgridcolor": "white",
             "startlinecolor": "#2a3f5f"
            },
            "type": "carpet"
           }
          ],
          "choropleth": [
           {
            "colorbar": {
             "outlinewidth": 0,
             "ticks": ""
            },
            "type": "choropleth"
           }
          ],
          "contour": [
           {
            "colorbar": {
             "outlinewidth": 0,
             "ticks": ""
            },
            "colorscale": [
             [
              0,
              "#0d0887"
             ],
             [
              0.1111111111111111,
              "#46039f"
             ],
             [
              0.2222222222222222,
              "#7201a8"
             ],
             [
              0.3333333333333333,
              "#9c179e"
             ],
             [
              0.4444444444444444,
              "#bd3786"
             ],
             [
              0.5555555555555556,
              "#d8576b"
             ],
             [
              0.6666666666666666,
              "#ed7953"
             ],
             [
              0.7777777777777778,
              "#fb9f3a"
             ],
             [
              0.8888888888888888,
              "#fdca26"
             ],
             [
              1,
              "#f0f921"
             ]
            ],
            "type": "contour"
           }
          ],
          "contourcarpet": [
           {
            "colorbar": {
             "outlinewidth": 0,
             "ticks": ""
            },
            "type": "contourcarpet"
           }
          ],
          "heatmap": [
           {
            "colorbar": {
             "outlinewidth": 0,
             "ticks": ""
            },
            "colorscale": [
             [
              0,
              "#0d0887"
             ],
             [
              0.1111111111111111,
              "#46039f"
             ],
             [
              0.2222222222222222,
              "#7201a8"
             ],
             [
              0.3333333333333333,
              "#9c179e"
             ],
             [
              0.4444444444444444,
              "#bd3786"
             ],
             [
              0.5555555555555556,
              "#d8576b"
             ],
             [
              0.6666666666666666,
              "#ed7953"
             ],
             [
              0.7777777777777778,
              "#fb9f3a"
             ],
             [
              0.8888888888888888,
              "#fdca26"
             ],
             [
              1,
              "#f0f921"
             ]
            ],
            "type": "heatmap"
           }
          ],
          "heatmapgl": [
           {
            "colorbar": {
             "outlinewidth": 0,
             "ticks": ""
            },
            "colorscale": [
             [
              0,
              "#0d0887"
             ],
             [
              0.1111111111111111,
              "#46039f"
             ],
             [
              0.2222222222222222,
              "#7201a8"
             ],
             [
              0.3333333333333333,
              "#9c179e"
             ],
             [
              0.4444444444444444,
              "#bd3786"
             ],
             [
              0.5555555555555556,
              "#d8576b"
             ],
             [
              0.6666666666666666,
              "#ed7953"
             ],
             [
              0.7777777777777778,
              "#fb9f3a"
             ],
             [
              0.8888888888888888,
              "#fdca26"
             ],
             [
              1,
              "#f0f921"
             ]
            ],
            "type": "heatmapgl"
           }
          ],
          "histogram": [
           {
            "marker": {
             "colorbar": {
              "outlinewidth": 0,
              "ticks": ""
             }
            },
            "type": "histogram"
           }
          ],
          "histogram2d": [
           {
            "colorbar": {
             "outlinewidth": 0,
             "ticks": ""
            },
            "colorscale": [
             [
              0,
              "#0d0887"
             ],
             [
              0.1111111111111111,
              "#46039f"
             ],
             [
              0.2222222222222222,
              "#7201a8"
             ],
             [
              0.3333333333333333,
              "#9c179e"
             ],
             [
              0.4444444444444444,
              "#bd3786"
             ],
             [
              0.5555555555555556,
              "#d8576b"
             ],
             [
              0.6666666666666666,
              "#ed7953"
             ],
             [
              0.7777777777777778,
              "#fb9f3a"
             ],
             [
              0.8888888888888888,
              "#fdca26"
             ],
             [
              1,
              "#f0f921"
             ]
            ],
            "type": "histogram2d"
           }
          ],
          "histogram2dcontour": [
           {
            "colorbar": {
             "outlinewidth": 0,
             "ticks": ""
            },
            "colorscale": [
             [
              0,
              "#0d0887"
             ],
             [
              0.1111111111111111,
              "#46039f"
             ],
             [
              0.2222222222222222,
              "#7201a8"
             ],
             [
              0.3333333333333333,
              "#9c179e"
             ],
             [
              0.4444444444444444,
              "#bd3786"
             ],
             [
              0.5555555555555556,
              "#d8576b"
             ],
             [
              0.6666666666666666,
              "#ed7953"
             ],
             [
              0.7777777777777778,
              "#fb9f3a"
             ],
             [
              0.8888888888888888,
              "#fdca26"
             ],
             [
              1,
              "#f0f921"
             ]
            ],
            "type": "histogram2dcontour"
           }
          ],
          "mesh3d": [
           {
            "colorbar": {
             "outlinewidth": 0,
             "ticks": ""
            },
            "type": "mesh3d"
           }
          ],
          "parcoords": [
           {
            "line": {
             "colorbar": {
              "outlinewidth": 0,
              "ticks": ""
             }
            },
            "type": "parcoords"
           }
          ],
          "scatter": [
           {
            "marker": {
             "colorbar": {
              "outlinewidth": 0,
              "ticks": ""
             }
            },
            "type": "scatter"
           }
          ],
          "scatter3d": [
           {
            "line": {
             "colorbar": {
              "outlinewidth": 0,
              "ticks": ""
             }
            },
            "marker": {
             "colorbar": {
              "outlinewidth": 0,
              "ticks": ""
             }
            },
            "type": "scatter3d"
           }
          ],
          "scattercarpet": [
           {
            "marker": {
             "colorbar": {
              "outlinewidth": 0,
              "ticks": ""
             }
            },
            "type": "scattercarpet"
           }
          ],
          "scattergeo": [
           {
            "marker": {
             "colorbar": {
              "outlinewidth": 0,
              "ticks": ""
             }
            },
            "type": "scattergeo"
           }
          ],
          "scattergl": [
           {
            "marker": {
             "colorbar": {
              "outlinewidth": 0,
              "ticks": ""
             }
            },
            "type": "scattergl"
           }
          ],
          "scattermapbox": [
           {
            "marker": {
             "colorbar": {
              "outlinewidth": 0,
              "ticks": ""
             }
            },
            "type": "scattermapbox"
           }
          ],
          "scatterpolar": [
           {
            "marker": {
             "colorbar": {
              "outlinewidth": 0,
              "ticks": ""
             }
            },
            "type": "scatterpolar"
           }
          ],
          "scatterpolargl": [
           {
            "marker": {
             "colorbar": {
              "outlinewidth": 0,
              "ticks": ""
             }
            },
            "type": "scatterpolargl"
           }
          ],
          "scatterternary": [
           {
            "marker": {
             "colorbar": {
              "outlinewidth": 0,
              "ticks": ""
             }
            },
            "type": "scatterternary"
           }
          ],
          "surface": [
           {
            "colorbar": {
             "outlinewidth": 0,
             "ticks": ""
            },
            "colorscale": [
             [
              0,
              "#0d0887"
             ],
             [
              0.1111111111111111,
              "#46039f"
             ],
             [
              0.2222222222222222,
              "#7201a8"
             ],
             [
              0.3333333333333333,
              "#9c179e"
             ],
             [
              0.4444444444444444,
              "#bd3786"
             ],
             [
              0.5555555555555556,
              "#d8576b"
             ],
             [
              0.6666666666666666,
              "#ed7953"
             ],
             [
              0.7777777777777778,
              "#fb9f3a"
             ],
             [
              0.8888888888888888,
              "#fdca26"
             ],
             [
              1,
              "#f0f921"
             ]
            ],
            "type": "surface"
           }
          ],
          "table": [
           {
            "cells": {
             "fill": {
              "color": "#EBF0F8"
             },
             "line": {
              "color": "white"
             }
            },
            "header": {
             "fill": {
              "color": "#C8D4E3"
             },
             "line": {
              "color": "white"
             }
            },
            "type": "table"
           }
          ]
         },
         "layout": {
          "annotationdefaults": {
           "arrowcolor": "#2a3f5f",
           "arrowhead": 0,
           "arrowwidth": 1
          },
          "colorscale": {
           "diverging": [
            [
             0,
             "#8e0152"
            ],
            [
             0.1,
             "#c51b7d"
            ],
            [
             0.2,
             "#de77ae"
            ],
            [
             0.3,
             "#f1b6da"
            ],
            [
             0.4,
             "#fde0ef"
            ],
            [
             0.5,
             "#f7f7f7"
            ],
            [
             0.6,
             "#e6f5d0"
            ],
            [
             0.7,
             "#b8e186"
            ],
            [
             0.8,
             "#7fbc41"
            ],
            [
             0.9,
             "#4d9221"
            ],
            [
             1,
             "#276419"
            ]
           ],
           "sequential": [
            [
             0,
             "#0d0887"
            ],
            [
             0.1111111111111111,
             "#46039f"
            ],
            [
             0.2222222222222222,
             "#7201a8"
            ],
            [
             0.3333333333333333,
             "#9c179e"
            ],
            [
             0.4444444444444444,
             "#bd3786"
            ],
            [
             0.5555555555555556,
             "#d8576b"
            ],
            [
             0.6666666666666666,
             "#ed7953"
            ],
            [
             0.7777777777777778,
             "#fb9f3a"
            ],
            [
             0.8888888888888888,
             "#fdca26"
            ],
            [
             1,
             "#f0f921"
            ]
           ],
           "sequentialminus": [
            [
             0,
             "#0d0887"
            ],
            [
             0.1111111111111111,
             "#46039f"
            ],
            [
             0.2222222222222222,
             "#7201a8"
            ],
            [
             0.3333333333333333,
             "#9c179e"
            ],
            [
             0.4444444444444444,
             "#bd3786"
            ],
            [
             0.5555555555555556,
             "#d8576b"
            ],
            [
             0.6666666666666666,
             "#ed7953"
            ],
            [
             0.7777777777777778,
             "#fb9f3a"
            ],
            [
             0.8888888888888888,
             "#fdca26"
            ],
            [
             1,
             "#f0f921"
            ]
           ]
          },
          "colorway": [
           "#636efa",
           "#EF553B",
           "#00cc96",
           "#ab63fa",
           "#FFA15A",
           "#19d3f3",
           "#FF6692",
           "#B6E880",
           "#FF97FF",
           "#FECB52"
          ],
          "font": {
           "color": "#2a3f5f"
          },
          "geo": {
           "bgcolor": "white",
           "lakecolor": "white",
           "landcolor": "#E5ECF6",
           "showlakes": true,
           "showland": true,
           "subunitcolor": "white"
          },
          "hoverlabel": {
           "align": "left"
          },
          "hovermode": "closest",
          "mapbox": {
           "style": "light"
          },
          "paper_bgcolor": "white",
          "plot_bgcolor": "#E5ECF6",
          "polar": {
           "angularaxis": {
            "gridcolor": "white",
            "linecolor": "white",
            "ticks": ""
           },
           "bgcolor": "#E5ECF6",
           "radialaxis": {
            "gridcolor": "white",
            "linecolor": "white",
            "ticks": ""
           }
          },
          "scene": {
           "xaxis": {
            "backgroundcolor": "#E5ECF6",
            "gridcolor": "white",
            "gridwidth": 2,
            "linecolor": "white",
            "showbackground": true,
            "ticks": "",
            "zerolinecolor": "white"
           },
           "yaxis": {
            "backgroundcolor": "#E5ECF6",
            "gridcolor": "white",
            "gridwidth": 2,
            "linecolor": "white",
            "showbackground": true,
            "ticks": "",
            "zerolinecolor": "white"
           },
           "zaxis": {
            "backgroundcolor": "#E5ECF6",
            "gridcolor": "white",
            "gridwidth": 2,
            "linecolor": "white",
            "showbackground": true,
            "ticks": "",
            "zerolinecolor": "white"
           }
          },
          "shapedefaults": {
           "line": {
            "color": "#2a3f5f"
           }
          },
          "ternary": {
           "aaxis": {
            "gridcolor": "white",
            "linecolor": "white",
            "ticks": ""
           },
           "baxis": {
            "gridcolor": "white",
            "linecolor": "white",
            "ticks": ""
           },
           "bgcolor": "#E5ECF6",
           "caxis": {
            "gridcolor": "white",
            "linecolor": "white",
            "ticks": ""
           }
          },
          "title": {
           "x": 0.05
          },
          "xaxis": {
           "automargin": true,
           "gridcolor": "white",
           "linecolor": "white",
           "ticks": "",
           "zerolinecolor": "white",
           "zerolinewidth": 2
          },
          "yaxis": {
           "automargin": true,
           "gridcolor": "white",
           "linecolor": "white",
           "ticks": "",
           "zerolinecolor": "white",
           "zerolinewidth": 2
          }
         }
        }
       }
      },
      "text/html": [
       "<div>\n",
       "        \n",
       "        \n",
       "            <div id=\"0f5e7102-6e16-4a70-ad5b-4bca8ca2e9a9\" class=\"plotly-graph-div\" style=\"height:525px; width:100%;\"></div>\n",
       "            <script type=\"text/javascript\">\n",
       "                require([\"plotly\"], function(Plotly) {\n",
       "                    window.PLOTLYENV=window.PLOTLYENV || {};\n",
       "                    \n",
       "                if (document.getElementById(\"0f5e7102-6e16-4a70-ad5b-4bca8ca2e9a9\")) {\n",
       "                    Plotly.newPlot(\n",
       "                        '0f5e7102-6e16-4a70-ad5b-4bca8ca2e9a9',\n",
       "                        [{\"lat\": [34.0566101, 34.0528984, 34.0498886, 34.0456085, 34.0460701, 34.040599799999995, 34.0447006, 34.0491982, 34.0493011, 34.0437317, 34.0392189, 34.045539899999994, 34.0348015, 34.0420609, 34.0485497, 34.0399818, 34.0535698, 34.0633888, 34.040988899999995, 34.0519409, 34.045421600000005, 34.0386086, 34.0441589, 34.0605583, 34.053199799999994, 34.0504799, 34.051101700000004, 34.05696870000001, 34.0421104, 34.0451813, 34.0310516, 34.0484009, 34.04774860000001, 34.0358009, 34.028511, 34.034210200000004, 34.0468216, 34.0400391, 34.0508804, 34.03918839999999, 34.0501404, 0.0, 34.0348816, 34.046611799999994, 34.03746029999999, 34.048851, 34.0583191, 34.0509109, 34.0328598, 34.0441704, 34.0356789, 34.0499802, 34.063179, 34.0642815, 34.03987120000001, 34.0379486, 34.037048299999995, 34.0468102, 34.0530205, 34.041130100000004, 34.0416908, 34.0318909, 34.05772020000001, 34.0465202, 33.987381, 34.024479, 34.147812, 34.14991, 34.13785900000001, 34.154270000000004, 34.144981, 34.142361, 34.146961, 34.14962, 34.160709000000004, 34.147499, 34.145748, 34.144588, 34.04472, 34.150471, 34.140999, 34.146069, 34.146221000000004, 34.145691, 34.14175, 34.142399, 34.145901, 34.147652, 34.133011, 34.143822, 34.145247999999995, 34.13821, 34.156181, 34.13525, 34.15612, 34.149712, 34.165291, 34.145908, 33.766659000000004, 33.771759, 33.74136, 33.725819, 33.74913, 33.733521, 33.710978999999995, 33.74892, 33.719261, 34.137951, 34.056702, 33.738979, 33.772301, 33.779819, 33.993771, 33.988129, 33.99868, 33.998341, 34.000881, 33.99556, 34.023392, 33.984341, 34.014309000000004, 33.996239, 33.984928000000004, 33.991161, 33.988419, 33.994701, 34.074829, 34.030628, 34.018059, 34.028679, 34.020302, 34.028351, 34.023708, 34.03017, 34.02404, 34.027618, 34.025859999999994, 34.026291, 34.04739, 34.01252, 34.062279, 34.06258, 34.057652000000004, 34.054031, 34.056808000000004, 34.059689, 34.014309000000004, 33.984341, 34.057709, 33.988419, 34.000881, 33.991161, 33.998321999999995, 34.04887, 34.066990000000004, 33.99556, 33.988129, 34.022518, 34.017681, 34.00351, 34.02655, 34.02018, 34.029121, 33.996239, 33.99958, 33.984928000000004, 34.025688, 34.023392, 33.993728999999995, 34.022449, 34.005871, 34.027771, 34.024570000000004, 34.028659999999995, 34.02948, 33.997231, 34.020061, 33.9986, 33.9953, 34.02338, 34.030472, 34.017368, 33.982921999999995, 34.036770000000004, 34.036621000000004, 34.027882, 34.022331, 34.036678, 34.000332, 34.03352, 34.03046, 34.172451, 34.035351, 34.009021999999995, 34.069271, 33.980789, 34.162890999999995, 34.01688, 34.02697, 33.993019, 34.075611, 34.026829, 34.033642, 34.04813, 34.063351000000004, 34.011799, 33.986511, 34.027828, 34.099049, 34.098011, 34.092490999999995, 34.051899, 34.02618], \"lon\": [-118.23721, -118.24156, -118.25588, -118.23703, -118.23309, -118.25384, -118.25244, -118.25283, -118.23881000000002, -118.26014, -118.23649, -118.25667, -118.23128, -118.26338, -118.25905, -118.2664, -118.26636, -118.23616, -118.2558, -118.24353, -118.25352, -118.26086, -118.25158, -118.23833, -118.25095, -118.25459, -118.26456, -118.25359, -118.25619, -118.25024, -118.26709, -118.26095, -118.24317, -118.23317, -118.25667, -118.25459, -118.24835, -118.26302, -118.24825, -118.23253, -118.23324, 0.0, -118.25769, -118.26273, -118.26538, -118.24642, -118.24609, -118.24097, -118.26808, -118.26117, -118.27081, -118.24716, -118.24588, -118.23894, -118.25003999999998, -118.25627, -118.25487, -118.25698, -118.24795, -118.26798, -118.23535, -118.25018, -118.24897, -118.23741, -118.472832, -118.393867, -118.132217, -118.13839, -118.122414, -118.142151, -118.13826, -118.14151, -118.139839, -118.14431, -118.132401, -118.14801, -118.144287, -118.144592, -118.266243, -118.132019, -118.13208799999998, -118.129181, -118.135262, -118.148239, -118.14906299999998, -118.132652, -118.116539, -118.145569, -118.14856, -118.154099, -118.15007, -118.147079, -118.166687, -118.13237, -118.151192, -118.160172, -118.15097, -118.12175, -118.261017, -118.276543, -118.278069, -118.28051, -118.280182, -118.277786, -118.284668, -118.275192, -118.282722, -118.128502, -118.231392, -118.279266, -118.268044, -118.263023, -118.453667, -118.471741, -118.472977, -118.461014, -118.46891, -118.481552, -118.479637, -118.47155, -118.491341, -118.477448, -118.469963, -118.468292, -118.45163, -118.464081, -118.25872, -118.2696, -118.286728, -118.284111, -118.281181, -118.288673, -118.279167, -118.280952, -118.283409, -118.280678, -118.284103, -118.277687, -118.218849, -118.285896, -118.271523, -118.290092, -118.292183, -118.27092, -118.275002, -118.29466200000002, -118.491341, -118.47155, -118.279762, -118.45163, -118.46891, -118.468292, -118.460983, -118.2743, -118.290878, -118.481552, -118.471741, -118.400589, -118.409081, -118.43438, -118.40846299999998, -118.40403, -118.403168, -118.477448, -118.44136, -118.469963, -118.395302, -118.399223, -118.45356, -118.438332, -118.429161, -118.38726, -118.394081, -118.410294, -118.410469, -118.445969, -118.422684, -118.472977, -118.464844, -118.479637, -118.420982, -118.420601, -118.410927, -118.425377, -118.425308, -118.388901, -118.415771, -118.425339, -118.402321, -118.24183700000002, -118.389099, -118.370369, -118.434143, -118.425011, -118.296593, -118.414902, -118.370163, -118.428452, -118.428207, -118.414909, -118.291862, -118.393517, -118.291313, -118.271027, -118.296799, -118.419533, -118.441917, -118.247139, -118.291496, -118.287071, -118.291443, -118.293678, -118.238319], \"marker\": {\"size\": [63.91125, 16.4725, 28.7825, 3.43, 37.56625, 21.51125, 58.86375, 32.9375, 49.63125, 21.10375, 12.06125, 36.1775, 11.90125, 31.35375, 81.455, 25.60625, 11.04125, 19.075, 10.65375, 59.64, 22.24875, 23.115, 21.49, 9.37, 25.95, 30.96375, 19.3675, 29.7425, 29.455, 38.7975, 4.91375, 38.6075, 22.86375, 15.4425, 3.56875, 3.0, 36.62, 3.0, 48.60125, 14.05875, 4.4, 3.0, 3.0, 28.44125, 11.505, 20.3225, 9.5625, 20.84375, 6.19375, 27.86375, 5.63625, 24.2425, 15.4075, 9.87875, 9.75375, 3.0, 5.265, 50.145, 14.505, 18.47875, 30.11375, 6.71875, 8.435, 52.96, 3.0, 3.0, 3.0, 3.0, 5.51875, 3.0, 4.7175, 4.25875, 3.0, 3.0, 3.0, 7.5925, 3.0, 5.0025, 3.0, 4.1425, 4.48625, 3.905, 5.54875, 4.4775, 5.86375, 3.69, 4.91875, 3.0, 3.53375, 3.0, 3.84, 3.0, 6.9225, 3.05375, 3.0, 3.0, 3.0, 3.0, 3.0, 3.0, 3.0, 3.14625, 4.025, 4.0325, 7.7725, 3.0, 3.77, 5.1175, 3.0, 5.6025, 3.0, 3.0, 3.86625, 12.665, 3.7325, 3.17625, 6.4625, 50.62, 3.8225, 36.12125, 40.4125, 15.25375, 11.105, 10.47125, 6.56625, 3.0, 9.27125, 3.0, 3.0, 3.0, 4.4825, 3.0, 3.10375, 3.0, 3.0, 3.0, 3.0, 3.0, 3.0, 3.0, 3.0, 3.0, 3.0, 3.0, 3.0, 3.0, 3.9125, 3.91625, 3.0, 3.0, 3.0, 3.0, 3.0, 3.0, 3.0, 6.56875, 3.0, 3.0, 3.0, 3.0, 3.0, 3.0, 3.0, 3.0, 3.0, 3.0, 3.0, 3.0, 3.0, 3.0, 3.0, 3.0, 3.0, 3.0, 3.0, 3.0, 3.0, 3.0, 3.0, 3.0, 3.0, 3.0, 3.0, 3.0, 3.0, 3.0, 3.0, 3.0, 3.0, 3.0, 3.0, 3.0, 3.0, 3.0, 3.0, 3.0, 3.0, 3.0, 3.0, 3.0, 3.0, 3.0, 3.0, 3.0, 3.0, 3.0, 3.0, 3.0, 3.0, 3.0, 3.0, 3.0, 3.0]}, \"mode\": \"markers\", \"text\": [\"Station ID: 3014\", \"Station ID: 3016\", \"Station ID: 3032\", \"Station ID: 3021\", \"Station ID: 3022\", \"Station ID: 3076\", \"Station ID: 3031\", \"Station ID: 3063\", \"Station ID: 3042\", \"Station ID: 3018\", \"Station ID: 3054\", \"Station ID: 3006\", \"Station ID: 3037\", \"Station ID: 3034\", \"Station ID: 3005\", \"Station ID: 3047\", \"Station ID: 3040\", \"Station ID: 3066\", \"Station ID: 3033\", \"Station ID: 3030\", \"Station ID: 3051\", \"Station ID: 3019\", \"Station ID: 3055\", \"Station ID: 3065\", \"Station ID: 3068\", \"Station ID: 3007\", \"Station ID: 3052\", \"Station ID: 3049\", \"Station ID: 3075\", \"Station ID: 3067\", \"Station ID: 3020\", \"Station ID: 3035\", \"Station ID: 3062\", \"Station ID: 3058\", \"Station ID: 3045\", \"Station ID: 3080\", \"Station ID: 3038\", \"Station ID: 3053\", \"Station ID: 3069\", \"Station ID: 3036\", \"Station ID: 3079\", \"Station ID: 4108\", \"Station ID: 3060\", \"Station ID: 3008\", \"Station ID: 3056\", \"Station ID: 3029\", \"Station ID: 3028\", \"Station ID: 3023\", \"Station ID: 3025\", \"Station ID: 3074\", \"Station ID: 3057\", \"Station ID: 3027\", \"Station ID: 3026\", \"Station ID: 3078\", \"Station ID: 3077\", \"Station ID: 3059\", \"Station ID: 3010\", \"Station ID: 3064\", \"Station ID: 3046\", \"Station ID: 3011\", \"Station ID: 3048\", \"Station ID: 3081\", \"Station ID: 3024\", \"Station ID: 3082\", \"Station ID: 3009\", \"Station ID: 3039\", \"Station ID: 4155\", \"Station ID: 4156\", \"Station ID: 4176\", \"Station ID: 4150\", \"Station ID: 4177\", \"Station ID: 4151\", \"Station ID: 4169\", \"Station ID: 4148\", \"Station ID: 4170\", \"Station ID: 4162\", \"Station ID: 4143\", \"Station ID: 4142\", \"Station ID: 3061\", \"Station ID: 4163\", \"Station ID: 4157\", \"Station ID: 4183\", \"Station ID: 4181\", \"Station ID: 4138\", \"Station ID: 4165\", \"Station ID: 4144\", \"Station ID: 4159\", \"Station ID: 4146\", \"Station ID: 4160\", \"Station ID: 4167\", \"Station ID: 4147\", \"Station ID: 4149\", \"Station ID: 4153\", \"Station ID: 4158\", \"Station ID: 4154\", \"Station ID: 4152\", \"Station ID: 4174\", \"Station ID: 4166\", \"Station ID: 4125\", \"Station ID: 4136\", \"Station ID: 4134\", \"Station ID: 4129\", \"Station ID: 4132\", \"Station ID: 4133\", \"Station ID: 4126\", \"Station ID: 4127\", \"Station ID: 4130\", \"Station ID: 4180\", \"Station ID: 4194\", \"Station ID: 4131\", \"Station ID: 4135\", \"Station ID: 3013\", \"Station ID: 4205\", \"Station ID: 4212\", \"Station ID: 4208\", \"Station ID: 4206\", \"Station ID: 4207\", \"Station ID: 4214\", \"Station ID: 4216\", \"Station ID: 4210\", \"Station ID: 4215\", \"Station ID: 4209\", \"Station ID: 4211\", \"Station ID: 4202\", \"Station ID: 4204\", \"Station ID: 4213\", \"Station ID: 4220\", \"Station ID: 4227\", \"Station ID: 4244\", \"Station ID: 4254\", \"Station ID: 4249\", \"Station ID: 4248\", \"Station ID: 4246\", \"Station ID: 4250\", \"Station ID: 4245\", \"Station ID: 4267\", \"Station ID: 4273\", \"Station ID: 4266\", \"Station ID: 4276\", \"Station ID: 4275\", \"Station ID: 4293\", \"Station ID: 4304\", \"Station ID: 4306\", \"Station ID: 4315\", \"Station ID: 4313\", \"Station ID: 4311\", \"Station ID: 4344\", \"Station ID: 4346\", \"Station ID: 4314\", \"Station ID: 4352\", \"Station ID: 4348\", \"Station ID: 4342\", \"Station ID: 4343\", \"Station ID: 4300\", \"Station ID: 4312\", \"Station ID: 4345\", \"Station ID: 4353\", \"Station ID: 4325\", \"Station ID: 4354\", \"Station ID: 4331\", \"Station ID: 4324\", \"Station ID: 4334\", \"Station ID: 4329\", \"Station ID: 4349\", \"Station ID: 4323\", \"Station ID: 4347\", \"Station ID: 4330\", \"Station ID: 4335\", \"Station ID: 4351\", \"Station ID: 4336\", \"Station ID: 4322\", \"Station ID: 4356\", \"Station ID: 4369\", \"Station ID: 4357\", \"Station ID: 4332\", \"Station ID: 4333\", \"Station ID: 4328\", \"Station ID: 4350\", \"Station ID: 4341\", \"Station ID: 4340\", \"Station ID: 4382\", \"Station ID: 4379\", \"Station ID: 4380\", \"Station ID: 4373\", \"Station ID: 4374\", \"Station ID: 4372\", \"Station ID: 4378\", \"Station ID: 4385\", \"Station ID: 4381\", \"Station ID: 4387\", \"Station ID: 4363\", \"Station ID: 4327\", \"Station ID: 4389\", \"Station ID: 4383\", \"Station ID: 4390\", \"Station ID: 4394\", \"Station ID: 4395\", \"Station ID: 4397\", \"Station ID: 4396\", \"Station ID: 4337\", \"Station ID: 4401\", \"Station ID: 4393\", \"Station ID: 4247\", \"Station ID: 4404\", \"Station ID: 4410\", \"Station ID: 4408\", \"Station ID: 4409\", \"Station ID: 4400\", \"Station ID: 4301\", \"Station ID: 4303\", \"Station ID: 4302\", \"Station ID: 4405\", \"Station ID: 4362\"], \"type\": \"scattermapbox\"}],\n",
       "                        {\"hovermode\": \"closest\", \"mapbox\": {\"accesstoken\": \"pk.eyJ1IjoiZmFsaTE5OTUiLCJhIjoiY2p4MTVibzB6MDZhMTQ4cXJwa2V1cHB1diJ9.1C2vrOF4nrRHBHHAcQHa4w\", \"bearing\": 0, \"center\": {\"lat\": 34, \"lon\": -118}, \"pitch\": 0, \"zoom\": 8}, \"template\": {\"data\": {\"bar\": [{\"error_x\": {\"color\": \"#2a3f5f\"}, \"error_y\": {\"color\": \"#2a3f5f\"}, \"marker\": {\"line\": {\"color\": \"#E5ECF6\", \"width\": 0.5}}, \"type\": \"bar\"}], \"barpolar\": [{\"marker\": {\"line\": {\"color\": \"#E5ECF6\", \"width\": 0.5}}, \"type\": \"barpolar\"}], \"carpet\": [{\"aaxis\": {\"endlinecolor\": \"#2a3f5f\", \"gridcolor\": \"white\", \"linecolor\": \"white\", \"minorgridcolor\": \"white\", \"startlinecolor\": \"#2a3f5f\"}, \"baxis\": {\"endlinecolor\": \"#2a3f5f\", \"gridcolor\": \"white\", \"linecolor\": \"white\", \"minorgridcolor\": \"white\", \"startlinecolor\": \"#2a3f5f\"}, \"type\": \"carpet\"}], \"choropleth\": [{\"colorbar\": {\"outlinewidth\": 0, \"ticks\": \"\"}, \"type\": \"choropleth\"}], \"contour\": [{\"colorbar\": {\"outlinewidth\": 0, \"ticks\": \"\"}, \"colorscale\": [[0.0, \"#0d0887\"], [0.1111111111111111, \"#46039f\"], [0.2222222222222222, \"#7201a8\"], [0.3333333333333333, \"#9c179e\"], [0.4444444444444444, \"#bd3786\"], [0.5555555555555556, \"#d8576b\"], [0.6666666666666666, \"#ed7953\"], [0.7777777777777778, \"#fb9f3a\"], [0.8888888888888888, \"#fdca26\"], [1.0, \"#f0f921\"]], \"type\": \"contour\"}], \"contourcarpet\": [{\"colorbar\": {\"outlinewidth\": 0, \"ticks\": \"\"}, \"type\": \"contourcarpet\"}], \"heatmap\": [{\"colorbar\": {\"outlinewidth\": 0, \"ticks\": \"\"}, \"colorscale\": [[0.0, \"#0d0887\"], [0.1111111111111111, \"#46039f\"], [0.2222222222222222, \"#7201a8\"], [0.3333333333333333, \"#9c179e\"], [0.4444444444444444, \"#bd3786\"], [0.5555555555555556, \"#d8576b\"], [0.6666666666666666, \"#ed7953\"], [0.7777777777777778, \"#fb9f3a\"], [0.8888888888888888, \"#fdca26\"], [1.0, \"#f0f921\"]], \"type\": \"heatmap\"}], \"heatmapgl\": [{\"colorbar\": {\"outlinewidth\": 0, \"ticks\": \"\"}, \"colorscale\": [[0.0, \"#0d0887\"], [0.1111111111111111, \"#46039f\"], [0.2222222222222222, \"#7201a8\"], [0.3333333333333333, \"#9c179e\"], [0.4444444444444444, \"#bd3786\"], [0.5555555555555556, \"#d8576b\"], [0.6666666666666666, \"#ed7953\"], [0.7777777777777778, \"#fb9f3a\"], [0.8888888888888888, \"#fdca26\"], [1.0, \"#f0f921\"]], \"type\": \"heatmapgl\"}], \"histogram\": [{\"marker\": {\"colorbar\": {\"outlinewidth\": 0, \"ticks\": \"\"}}, \"type\": \"histogram\"}], \"histogram2d\": [{\"colorbar\": {\"outlinewidth\": 0, \"ticks\": \"\"}, \"colorscale\": [[0.0, \"#0d0887\"], [0.1111111111111111, \"#46039f\"], [0.2222222222222222, \"#7201a8\"], [0.3333333333333333, \"#9c179e\"], [0.4444444444444444, \"#bd3786\"], [0.5555555555555556, \"#d8576b\"], [0.6666666666666666, \"#ed7953\"], [0.7777777777777778, \"#fb9f3a\"], [0.8888888888888888, \"#fdca26\"], [1.0, \"#f0f921\"]], \"type\": \"histogram2d\"}], \"histogram2dcontour\": [{\"colorbar\": {\"outlinewidth\": 0, \"ticks\": \"\"}, \"colorscale\": [[0.0, \"#0d0887\"], [0.1111111111111111, \"#46039f\"], [0.2222222222222222, \"#7201a8\"], [0.3333333333333333, \"#9c179e\"], [0.4444444444444444, \"#bd3786\"], [0.5555555555555556, \"#d8576b\"], [0.6666666666666666, \"#ed7953\"], [0.7777777777777778, \"#fb9f3a\"], [0.8888888888888888, \"#fdca26\"], [1.0, \"#f0f921\"]], \"type\": \"histogram2dcontour\"}], \"mesh3d\": [{\"colorbar\": {\"outlinewidth\": 0, \"ticks\": \"\"}, \"type\": \"mesh3d\"}], \"parcoords\": [{\"line\": {\"colorbar\": {\"outlinewidth\": 0, \"ticks\": \"\"}}, \"type\": \"parcoords\"}], \"scatter\": [{\"marker\": {\"colorbar\": {\"outlinewidth\": 0, \"ticks\": \"\"}}, \"type\": \"scatter\"}], \"scatter3d\": [{\"line\": {\"colorbar\": {\"outlinewidth\": 0, \"ticks\": \"\"}}, \"marker\": {\"colorbar\": {\"outlinewidth\": 0, \"ticks\": \"\"}}, \"type\": \"scatter3d\"}], \"scattercarpet\": [{\"marker\": {\"colorbar\": {\"outlinewidth\": 0, \"ticks\": \"\"}}, \"type\": \"scattercarpet\"}], \"scattergeo\": [{\"marker\": {\"colorbar\": {\"outlinewidth\": 0, \"ticks\": \"\"}}, \"type\": \"scattergeo\"}], \"scattergl\": [{\"marker\": {\"colorbar\": {\"outlinewidth\": 0, \"ticks\": \"\"}}, \"type\": \"scattergl\"}], \"scattermapbox\": [{\"marker\": {\"colorbar\": {\"outlinewidth\": 0, \"ticks\": \"\"}}, \"type\": \"scattermapbox\"}], \"scatterpolar\": [{\"marker\": {\"colorbar\": {\"outlinewidth\": 0, \"ticks\": \"\"}}, \"type\": \"scatterpolar\"}], \"scatterpolargl\": [{\"marker\": {\"colorbar\": {\"outlinewidth\": 0, \"ticks\": \"\"}}, \"type\": \"scatterpolargl\"}], \"scatterternary\": [{\"marker\": {\"colorbar\": {\"outlinewidth\": 0, \"ticks\": \"\"}}, \"type\": \"scatterternary\"}], \"surface\": [{\"colorbar\": {\"outlinewidth\": 0, \"ticks\": \"\"}, \"colorscale\": [[0.0, \"#0d0887\"], [0.1111111111111111, \"#46039f\"], [0.2222222222222222, \"#7201a8\"], [0.3333333333333333, \"#9c179e\"], [0.4444444444444444, \"#bd3786\"], [0.5555555555555556, \"#d8576b\"], [0.6666666666666666, \"#ed7953\"], [0.7777777777777778, \"#fb9f3a\"], [0.8888888888888888, \"#fdca26\"], [1.0, \"#f0f921\"]], \"type\": \"surface\"}], \"table\": [{\"cells\": {\"fill\": {\"color\": \"#EBF0F8\"}, \"line\": {\"color\": \"white\"}}, \"header\": {\"fill\": {\"color\": \"#C8D4E3\"}, \"line\": {\"color\": \"white\"}}, \"type\": \"table\"}]}, \"layout\": {\"annotationdefaults\": {\"arrowcolor\": \"#2a3f5f\", \"arrowhead\": 0, \"arrowwidth\": 1}, \"colorscale\": {\"diverging\": [[0, \"#8e0152\"], [0.1, \"#c51b7d\"], [0.2, \"#de77ae\"], [0.3, \"#f1b6da\"], [0.4, \"#fde0ef\"], [0.5, \"#f7f7f7\"], [0.6, \"#e6f5d0\"], [0.7, \"#b8e186\"], [0.8, \"#7fbc41\"], [0.9, \"#4d9221\"], [1, \"#276419\"]], \"sequential\": [[0.0, \"#0d0887\"], [0.1111111111111111, \"#46039f\"], [0.2222222222222222, \"#7201a8\"], [0.3333333333333333, \"#9c179e\"], [0.4444444444444444, \"#bd3786\"], [0.5555555555555556, \"#d8576b\"], [0.6666666666666666, \"#ed7953\"], [0.7777777777777778, \"#fb9f3a\"], [0.8888888888888888, \"#fdca26\"], [1.0, \"#f0f921\"]], \"sequentialminus\": [[0.0, \"#0d0887\"], [0.1111111111111111, \"#46039f\"], [0.2222222222222222, \"#7201a8\"], [0.3333333333333333, \"#9c179e\"], [0.4444444444444444, \"#bd3786\"], [0.5555555555555556, \"#d8576b\"], [0.6666666666666666, \"#ed7953\"], [0.7777777777777778, \"#fb9f3a\"], [0.8888888888888888, \"#fdca26\"], [1.0, \"#f0f921\"]]}, \"colorway\": [\"#636efa\", \"#EF553B\", \"#00cc96\", \"#ab63fa\", \"#FFA15A\", \"#19d3f3\", \"#FF6692\", \"#B6E880\", \"#FF97FF\", \"#FECB52\"], \"font\": {\"color\": \"#2a3f5f\"}, \"geo\": {\"bgcolor\": \"white\", \"lakecolor\": \"white\", \"landcolor\": \"#E5ECF6\", \"showlakes\": true, \"showland\": true, \"subunitcolor\": \"white\"}, \"hoverlabel\": {\"align\": \"left\"}, \"hovermode\": \"closest\", \"mapbox\": {\"style\": \"light\"}, \"paper_bgcolor\": \"white\", \"plot_bgcolor\": \"#E5ECF6\", \"polar\": {\"angularaxis\": {\"gridcolor\": \"white\", \"linecolor\": \"white\", \"ticks\": \"\"}, \"bgcolor\": \"#E5ECF6\", \"radialaxis\": {\"gridcolor\": \"white\", \"linecolor\": \"white\", \"ticks\": \"\"}}, \"scene\": {\"xaxis\": {\"backgroundcolor\": \"#E5ECF6\", \"gridcolor\": \"white\", \"gridwidth\": 2, \"linecolor\": \"white\", \"showbackground\": true, \"ticks\": \"\", \"zerolinecolor\": \"white\"}, \"yaxis\": {\"backgroundcolor\": \"#E5ECF6\", \"gridcolor\": \"white\", \"gridwidth\": 2, \"linecolor\": \"white\", \"showbackground\": true, \"ticks\": \"\", \"zerolinecolor\": \"white\"}, \"zaxis\": {\"backgroundcolor\": \"#E5ECF6\", \"gridcolor\": \"white\", \"gridwidth\": 2, \"linecolor\": \"white\", \"showbackground\": true, \"ticks\": \"\", \"zerolinecolor\": \"white\"}}, \"shapedefaults\": {\"line\": {\"color\": \"#2a3f5f\"}}, \"ternary\": {\"aaxis\": {\"gridcolor\": \"white\", \"linecolor\": \"white\", \"ticks\": \"\"}, \"baxis\": {\"gridcolor\": \"white\", \"linecolor\": \"white\", \"ticks\": \"\"}, \"bgcolor\": \"#E5ECF6\", \"caxis\": {\"gridcolor\": \"white\", \"linecolor\": \"white\", \"ticks\": \"\"}}, \"title\": {\"x\": 0.05}, \"xaxis\": {\"automargin\": true, \"gridcolor\": \"white\", \"linecolor\": \"white\", \"ticks\": \"\", \"zerolinecolor\": \"white\", \"zerolinewidth\": 2}, \"yaxis\": {\"automargin\": true, \"gridcolor\": \"white\", \"linecolor\": \"white\", \"ticks\": \"\", \"zerolinecolor\": \"white\", \"zerolinewidth\": 2}}}},\n",
       "                        {\"responsive\": true}\n",
       "                    ).then(function(){\n",
       "                            \n",
       "var gd = document.getElementById('0f5e7102-6e16-4a70-ad5b-4bca8ca2e9a9');\n",
       "var x = new MutationObserver(function (mutations, observer) {{\n",
       "        var display = window.getComputedStyle(gd).display;\n",
       "        if (!display || display === 'none') {{\n",
       "            console.log([gd, 'removed!']);\n",
       "            Plotly.purge(gd);\n",
       "            observer.disconnect();\n",
       "        }}\n",
       "}});\n",
       "\n",
       "// Listen for the removal of the full notebook cells\n",
       "var notebookContainer = gd.closest('#notebook-container');\n",
       "if (notebookContainer) {{\n",
       "    x.observe(notebookContainer, {childList: true});\n",
       "}}\n",
       "\n",
       "// Listen for the clearing of the current output cell\n",
       "var outputEl = gd.closest('.output');\n",
       "if (outputEl) {{\n",
       "    x.observe(outputEl, {childList: true});\n",
       "}}\n",
       "\n",
       "                        })\n",
       "                };\n",
       "                });\n",
       "            </script>\n",
       "        </div>"
      ]
     },
     "metadata": {},
     "output_type": "display_data"
    }
   ],
   "source": [
    "mapbox_access_token = open(\"mapbox_token.txt\").read()\n",
    "\n",
    "fig = go.Figure(go.Scattermapbox(\n",
    "        lat=stations.lat,\n",
    "        lon=stations.lon,\n",
    "        mode='markers',\n",
    "        marker=go.scattermapbox.Marker(\n",
    "            size=stations.total_visits.map(marker_size)\n",
    "    \n",
    "        ),\n",
    "        text=stations.station.map(lambda x: \"Station ID: \" + str(x)),\n",
    "    ))\n",
    "\n",
    "fig.update_layout(\n",
    "    hovermode='closest',\n",
    "    mapbox=go.layout.Mapbox(\n",
    "        accesstoken=mapbox_access_token,\n",
    "        bearing=0,\n",
    "        center=go.layout.mapbox.Center(\n",
    "            lat=34,\n",
    "            lon=-118\n",
    "        ),\n",
    "        pitch=0,\n",
    "        zoom=8\n",
    "    )\n",
    ")\n",
    "\n",
    "fig.show()"
   ]
  },
  {
   "cell_type": "code",
   "execution_count": null,
   "metadata": {},
   "outputs": [],
   "source": []
  }
 ],
 "metadata": {
  "kernelspec": {
   "display_name": "Python 3",
   "language": "python",
   "name": "python3"
  },
  "language_info": {
   "codemirror_mode": {
    "name": "ipython",
    "version": 3
   },
   "file_extension": ".py",
   "mimetype": "text/x-python",
   "name": "python",
   "nbconvert_exporter": "python",
   "pygments_lexer": "ipython3",
   "version": "3.7.3"
  }
 },
 "nbformat": 4,
 "nbformat_minor": 2
}
